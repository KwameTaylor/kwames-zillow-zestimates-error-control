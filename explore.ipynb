{
 "cells": [
  {
   "cell_type": "markdown",
   "metadata": {},
   "source": [
    "# Kwame's Zillow Zestimates Error Control\n",
    "\n",
    "Table of contents with header links goes here.\n",
    "\n",
    "## explore.ipynb"
   ]
  },
  {
   "cell_type": "markdown",
   "metadata": {},
   "source": [
    "### When this section of the pipeline is done being coded, I will transfer internal code to ```explore.py``` and external code and output to the final notebook.\n",
    "\n",
    "**I may make this the final notebook with a rename and cleanup.**"
   ]
  },
  {
   "cell_type": "markdown",
   "metadata": {},
   "source": [
    "### Set up the environment"
   ]
  },
  {
   "cell_type": "code",
   "execution_count": 1,
   "metadata": {},
   "outputs": [],
   "source": [
    "# ignore warnings\n",
    "import warnings\n",
    "warnings.filterwarnings(\"ignore\")\n",
    "\n",
    "# import necessary packages/modules\n",
    "import pandas as pd\n",
    "import numpy as np\n",
    "import matplotlib.pyplot as plt\n",
    "import seaborn as sns\n",
    "from scipy import stats\n",
    "from math import sqrt\n",
    "\n",
    "from wrangle import get_zillow_data, prepare_zillow\n",
    "from preprocessing import zillow_main_split, zillow_Xy_split, impute_nulls, zillow_scale\n",
    "\n",
    "# default viz size settings\n",
    "plt.rc('figure', figsize=(10, 8))\n",
    "plt.rc('font', size=15)\n",
    "\n",
    "# default pandas decimal number display format\n",
    "pd.options.display.float_format = '{:20,.2f}'.format"
   ]
  },
  {
   "cell_type": "markdown",
   "metadata": {},
   "source": [
    "### Acquire the data"
   ]
  },
  {
   "cell_type": "code",
   "execution_count": 2,
   "metadata": {},
   "outputs": [
    {
     "data": {
      "text/plain": [
       "(77580, 69)"
      ]
     },
     "execution_count": 2,
     "metadata": {},
     "output_type": "execute_result"
    }
   ],
   "source": [
    "df = get_zillow_data()\n",
    "df.shape"
   ]
  },
  {
   "cell_type": "markdown",
   "metadata": {},
   "source": [
    "### Tidy the data"
   ]
  },
  {
   "cell_type": "code",
   "execution_count": 3,
   "metadata": {},
   "outputs": [
    {
     "data": {
      "text/html": [
       "<div>\n",
       "<style scoped>\n",
       "    .dataframe tbody tr th:only-of-type {\n",
       "        vertical-align: middle;\n",
       "    }\n",
       "\n",
       "    .dataframe tbody tr th {\n",
       "        vertical-align: top;\n",
       "    }\n",
       "\n",
       "    .dataframe thead th {\n",
       "        text-align: right;\n",
       "    }\n",
       "</style>\n",
       "<table border=\"1\" class=\"dataframe\">\n",
       "  <thead>\n",
       "    <tr style=\"text-align: right;\">\n",
       "      <th></th>\n",
       "      <th>bathcnt</th>\n",
       "      <th>sqft</th>\n",
       "      <th>latitude</th>\n",
       "      <th>longitude</th>\n",
       "      <th>county</th>\n",
       "      <th>yearbuilt</th>\n",
       "      <th>value</th>\n",
       "      <th>logerror</th>\n",
       "      <th>bathbedcnt</th>\n",
       "    </tr>\n",
       "    <tr>\n",
       "      <th>parcelid</th>\n",
       "      <th></th>\n",
       "      <th></th>\n",
       "      <th></th>\n",
       "      <th></th>\n",
       "      <th></th>\n",
       "      <th></th>\n",
       "      <th></th>\n",
       "      <th></th>\n",
       "      <th></th>\n",
       "    </tr>\n",
       "  </thead>\n",
       "  <tbody>\n",
       "    <tr>\n",
       "      <th>14297519</th>\n",
       "      <td>3.50</td>\n",
       "      <td>3,100.00</td>\n",
       "      <td>33,634,931.00</td>\n",
       "      <td>-117,869,207.00</td>\n",
       "      <td>1</td>\n",
       "      <td>1,998.00</td>\n",
       "      <td>1,023,282.00</td>\n",
       "      <td>0.03</td>\n",
       "      <td>7.50</td>\n",
       "    </tr>\n",
       "    <tr>\n",
       "      <th>17052889</th>\n",
       "      <td>1.00</td>\n",
       "      <td>1,465.00</td>\n",
       "      <td>34,449,266.00</td>\n",
       "      <td>-119,281,531.00</td>\n",
       "      <td>2</td>\n",
       "      <td>1,967.00</td>\n",
       "      <td>464,000.00</td>\n",
       "      <td>0.06</td>\n",
       "      <td>3.00</td>\n",
       "    </tr>\n",
       "    <tr>\n",
       "      <th>14186244</th>\n",
       "      <td>2.00</td>\n",
       "      <td>1,243.00</td>\n",
       "      <td>33,886,168.00</td>\n",
       "      <td>-117,823,170.00</td>\n",
       "      <td>1</td>\n",
       "      <td>1,962.00</td>\n",
       "      <td>564,778.00</td>\n",
       "      <td>0.01</td>\n",
       "      <td>5.00</td>\n",
       "    </tr>\n",
       "    <tr>\n",
       "      <th>12177905</th>\n",
       "      <td>3.00</td>\n",
       "      <td>2,376.00</td>\n",
       "      <td>34,245,180.00</td>\n",
       "      <td>-118,240,722.00</td>\n",
       "      <td>0</td>\n",
       "      <td>1,970.00</td>\n",
       "      <td>145,143.00</td>\n",
       "      <td>-0.10</td>\n",
       "      <td>7.00</td>\n",
       "    </tr>\n",
       "    <tr>\n",
       "      <th>12095076</th>\n",
       "      <td>3.00</td>\n",
       "      <td>2,962.00</td>\n",
       "      <td>34,145,202.00</td>\n",
       "      <td>-118,179,824.00</td>\n",
       "      <td>0</td>\n",
       "      <td>1,950.00</td>\n",
       "      <td>773,303.00</td>\n",
       "      <td>-0.00</td>\n",
       "      <td>7.00</td>\n",
       "    </tr>\n",
       "  </tbody>\n",
       "</table>\n",
       "</div>"
      ],
      "text/plain": [
       "                      bathcnt                 sqft             latitude  \\\n",
       "parcelid                                                                  \n",
       "14297519                 3.50             3,100.00        33,634,931.00   \n",
       "17052889                 1.00             1,465.00        34,449,266.00   \n",
       "14186244                 2.00             1,243.00        33,886,168.00   \n",
       "12177905                 3.00             2,376.00        34,245,180.00   \n",
       "12095076                 3.00             2,962.00        34,145,202.00   \n",
       "\n",
       "                    longitude  county            yearbuilt  \\\n",
       "parcelid                                                     \n",
       "14297519      -117,869,207.00       1             1,998.00   \n",
       "17052889      -119,281,531.00       2             1,967.00   \n",
       "14186244      -117,823,170.00       1             1,962.00   \n",
       "12177905      -118,240,722.00       0             1,970.00   \n",
       "12095076      -118,179,824.00       0             1,950.00   \n",
       "\n",
       "                        value             logerror           bathbedcnt  \n",
       "parcelid                                                                 \n",
       "14297519         1,023,282.00                 0.03                 7.50  \n",
       "17052889           464,000.00                 0.06                 3.00  \n",
       "14186244           564,778.00                 0.01                 5.00  \n",
       "12177905           145,143.00                -0.10                 7.00  \n",
       "12095076           773,303.00                -0.00                 7.00  "
      ]
     },
     "execution_count": 3,
     "metadata": {},
     "output_type": "execute_result"
    }
   ],
   "source": [
    "df = prepare_zillow(df)\n",
    "df.head()"
   ]
  },
  {
   "cell_type": "markdown",
   "metadata": {},
   "source": [
    "### Summarize the clean data"
   ]
  },
  {
   "cell_type": "code",
   "execution_count": 4,
   "metadata": {},
   "outputs": [
    {
     "data": {
      "text/plain": [
       "(52412, 9)"
      ]
     },
     "execution_count": 4,
     "metadata": {},
     "output_type": "execute_result"
    }
   ],
   "source": [
    "df.shape"
   ]
  },
  {
   "cell_type": "code",
   "execution_count": 5,
   "metadata": {},
   "outputs": [
    {
     "name": "stdout",
     "output_type": "stream",
     "text": [
      "<class 'pandas.core.frame.DataFrame'>\n",
      "Int64Index: 52412 entries, 14297519 to 13083743\n",
      "Data columns (total 9 columns):\n",
      " #   Column      Non-Null Count  Dtype  \n",
      "---  ------      --------------  -----  \n",
      " 0   bathcnt     52412 non-null  float64\n",
      " 1   sqft        52330 non-null  float64\n",
      " 2   latitude    52412 non-null  float64\n",
      " 3   longitude   52412 non-null  float64\n",
      " 4   county      52412 non-null  int64  \n",
      " 5   yearbuilt   52296 non-null  float64\n",
      " 6   value       52411 non-null  float64\n",
      " 7   logerror    52412 non-null  float64\n",
      " 8   bathbedcnt  52412 non-null  float64\n",
      "dtypes: float64(8), int64(1)\n",
      "memory usage: 4.0 MB\n"
     ]
    }
   ],
   "source": [
    "df.info()"
   ]
  },
  {
   "cell_type": "code",
   "execution_count": 6,
   "metadata": {},
   "outputs": [
    {
     "data": {
      "text/plain": [
       "bathcnt         0\n",
       "sqft           82\n",
       "latitude        0\n",
       "longitude       0\n",
       "county          0\n",
       "yearbuilt     116\n",
       "value           1\n",
       "logerror        0\n",
       "bathbedcnt      0\n",
       "dtype: int64"
      ]
     },
     "execution_count": 6,
     "metadata": {},
     "output_type": "execute_result"
    }
   ],
   "source": [
    "df.isnull().sum()"
   ]
  },
  {
   "cell_type": "markdown",
   "metadata": {},
   "source": [
    "The remaining nulls have to be imputed after the data split so that we aren't cheating with our data sets."
   ]
  },
  {
   "cell_type": "markdown",
   "metadata": {},
   "source": [
    "### Split the data into train, validate, test."
   ]
  },
  {
   "cell_type": "code",
   "execution_count": 7,
   "metadata": {},
   "outputs": [],
   "source": [
    "# main split\n",
    "train, validate, test = zillow_main_split(df)"
   ]
  },
  {
   "cell_type": "code",
   "execution_count": 8,
   "metadata": {},
   "outputs": [
    {
     "name": "stdout",
     "output_type": "stream",
     "text": [
      "Shape of train data: (29350, 9)\n",
      "Shape of validate data: (12579, 9)\n",
      "Shape of test data: (10483, 9)\n"
     ]
    }
   ],
   "source": [
    "print(f'Shape of train data: {train.shape}')\n",
    "print(f'Shape of validate data: {validate.shape}')\n",
    "print(f'Shape of test data: {test.shape}')"
   ]
  },
  {
   "cell_type": "markdown",
   "metadata": {},
   "source": [
    "### Impute the remaining nulls with medians."
   ]
  },
  {
   "cell_type": "code",
   "execution_count": 9,
   "metadata": {},
   "outputs": [
    {
     "data": {
      "text/plain": [
       "bathcnt       0\n",
       "sqft          0\n",
       "latitude      0\n",
       "longitude     0\n",
       "county        0\n",
       "yearbuilt     0\n",
       "value         0\n",
       "logerror      0\n",
       "bathbedcnt    0\n",
       "dtype: int64"
      ]
     },
     "execution_count": 9,
     "metadata": {},
     "output_type": "execute_result"
    }
   ],
   "source": [
    "train = impute_nulls(train)\n",
    "train.isnull().sum()"
   ]
  },
  {
   "cell_type": "code",
   "execution_count": 10,
   "metadata": {},
   "outputs": [
    {
     "data": {
      "text/plain": [
       "bathcnt       0\n",
       "sqft          0\n",
       "latitude      0\n",
       "longitude     0\n",
       "county        0\n",
       "yearbuilt     0\n",
       "value         0\n",
       "logerror      0\n",
       "bathbedcnt    0\n",
       "dtype: int64"
      ]
     },
     "execution_count": 10,
     "metadata": {},
     "output_type": "execute_result"
    }
   ],
   "source": [
    "validate = impute_nulls(validate)\n",
    "validate.isnull().sum()"
   ]
  },
  {
   "cell_type": "code",
   "execution_count": 11,
   "metadata": {},
   "outputs": [
    {
     "data": {
      "text/plain": [
       "bathcnt       0\n",
       "sqft          0\n",
       "latitude      0\n",
       "longitude     0\n",
       "county        0\n",
       "yearbuilt     0\n",
       "value         0\n",
       "logerror      0\n",
       "bathbedcnt    0\n",
       "dtype: int64"
      ]
     },
     "execution_count": 11,
     "metadata": {},
     "output_type": "execute_result"
    }
   ],
   "source": [
    "test = impute_nulls(test)\n",
    "test.isnull().sum()"
   ]
  },
  {
   "cell_type": "markdown",
   "metadata": {},
   "source": [
    "### Split the data into X and y train, X and y validate, X and y test."
   ]
  },
  {
   "cell_type": "code",
   "execution_count": 12,
   "metadata": {},
   "outputs": [],
   "source": [
    "X_train, X_validate, X_test, y_train, y_validate, y_test = zillow_Xy_split(train, validate, test)"
   ]
  },
  {
   "cell_type": "code",
   "execution_count": 13,
   "metadata": {},
   "outputs": [
    {
     "name": "stdout",
     "output_type": "stream",
     "text": [
      "Shape of X train data: (29350, 8)\n",
      "Shape of X validate data: (12579, 8)\n",
      "Shape of X test data: (10483, 8)\n",
      "\n",
      "\n",
      "Shape of y train data: (29350,)\n",
      "Shape of y validate data: (12579,)\n",
      "Shape of y test data: (10483,)\n"
     ]
    }
   ],
   "source": [
    "# checking to make sure data was split correctly\n",
    "print(f'Shape of X train data: {X_train.shape}')\n",
    "print(f'Shape of X validate data: {X_validate.shape}')\n",
    "print(f'Shape of X test data: {X_test.shape}')\n",
    "print('\\n')\n",
    "print(f'Shape of y train data: {y_train.shape}')\n",
    "print(f'Shape of y validate data: {y_validate.shape}')\n",
    "print(f'Shape of y test data: {y_test.shape}')"
   ]
  },
  {
   "cell_type": "markdown",
   "metadata": {},
   "source": [
    "### Scale the data"
   ]
  },
  {
   "cell_type": "code",
   "execution_count": 18,
   "metadata": {},
   "outputs": [
    {
     "data": {
      "text/html": [
       "<div>\n",
       "<style scoped>\n",
       "    .dataframe tbody tr th:only-of-type {\n",
       "        vertical-align: middle;\n",
       "    }\n",
       "\n",
       "    .dataframe tbody tr th {\n",
       "        vertical-align: top;\n",
       "    }\n",
       "\n",
       "    .dataframe thead th {\n",
       "        text-align: right;\n",
       "    }\n",
       "</style>\n",
       "<table border=\"1\" class=\"dataframe\">\n",
       "  <thead>\n",
       "    <tr style=\"text-align: right;\">\n",
       "      <th></th>\n",
       "      <th>bathcnt</th>\n",
       "      <th>sqft</th>\n",
       "      <th>latitude</th>\n",
       "      <th>longitude</th>\n",
       "      <th>county</th>\n",
       "      <th>yearbuilt</th>\n",
       "      <th>value</th>\n",
       "      <th>bathbedcnt</th>\n",
       "    </tr>\n",
       "    <tr>\n",
       "      <th>parcelid</th>\n",
       "      <th></th>\n",
       "      <th></th>\n",
       "      <th></th>\n",
       "      <th></th>\n",
       "      <th></th>\n",
       "      <th></th>\n",
       "      <th></th>\n",
       "      <th></th>\n",
       "    </tr>\n",
       "  </thead>\n",
       "  <tbody>\n",
       "    <tr>\n",
       "      <th>10750905</th>\n",
       "      <td>0.31</td>\n",
       "      <td>0.13</td>\n",
       "      <td>0.53</td>\n",
       "      <td>0.36</td>\n",
       "      <td>0.00</td>\n",
       "      <td>0.84</td>\n",
       "      <td>0.03</td>\n",
       "      <td>0.38</td>\n",
       "    </tr>\n",
       "    <tr>\n",
       "      <th>13051572</th>\n",
       "      <td>0.23</td>\n",
       "      <td>0.11</td>\n",
       "      <td>0.53</td>\n",
       "      <td>0.91</td>\n",
       "      <td>0.00</td>\n",
       "      <td>0.69</td>\n",
       "      <td>0.01</td>\n",
       "      <td>0.33</td>\n",
       "    </tr>\n",
       "    <tr>\n",
       "      <th>11419247</th>\n",
       "      <td>0.08</td>\n",
       "      <td>0.03</td>\n",
       "      <td>0.39</td>\n",
       "      <td>0.58</td>\n",
       "      <td>0.00</td>\n",
       "      <td>0.50</td>\n",
       "      <td>0.01</td>\n",
       "      <td>0.14</td>\n",
       "    </tr>\n",
       "    <tr>\n",
       "      <th>14025918</th>\n",
       "      <td>0.15</td>\n",
       "      <td>0.05</td>\n",
       "      <td>0.23</td>\n",
       "      <td>0.82</td>\n",
       "      <td>0.50</td>\n",
       "      <td>0.62</td>\n",
       "      <td>0.03</td>\n",
       "      <td>0.24</td>\n",
       "    </tr>\n",
       "    <tr>\n",
       "      <th>11842800</th>\n",
       "      <td>0.23</td>\n",
       "      <td>0.06</td>\n",
       "      <td>0.49</td>\n",
       "      <td>0.70</td>\n",
       "      <td>0.00</td>\n",
       "      <td>0.35</td>\n",
       "      <td>0.02</td>\n",
       "      <td>0.38</td>\n",
       "    </tr>\n",
       "  </tbody>\n",
       "</table>\n",
       "</div>"
      ],
      "text/plain": [
       "                      bathcnt                 sqft             latitude  \\\n",
       "parcelid                                                                  \n",
       "10750905                 0.31                 0.13                 0.53   \n",
       "13051572                 0.23                 0.11                 0.53   \n",
       "11419247                 0.08                 0.03                 0.39   \n",
       "14025918                 0.15                 0.05                 0.23   \n",
       "11842800                 0.23                 0.06                 0.49   \n",
       "\n",
       "                    longitude               county            yearbuilt  \\\n",
       "parcelid                                                                  \n",
       "10750905                 0.36                 0.00                 0.84   \n",
       "13051572                 0.91                 0.00                 0.69   \n",
       "11419247                 0.58                 0.00                 0.50   \n",
       "14025918                 0.82                 0.50                 0.62   \n",
       "11842800                 0.70                 0.00                 0.35   \n",
       "\n",
       "                        value           bathbedcnt  \n",
       "parcelid                                            \n",
       "10750905                 0.03                 0.38  \n",
       "13051572                 0.01                 0.33  \n",
       "11419247                 0.01                 0.14  \n",
       "14025918                 0.03                 0.24  \n",
       "11842800                 0.02                 0.38  "
      ]
     },
     "execution_count": 18,
     "metadata": {},
     "output_type": "execute_result"
    }
   ],
   "source": [
    "scaler, X_train_scaled, X_validate_scaled, X_test_scaled = zillow_scale(X_train, X_validate, X_test)\n",
    "X_train_scaled.head()"
   ]
  },
  {
   "cell_type": "markdown",
   "metadata": {},
   "source": [
    "### Explore the data and create visualizations"
   ]
  },
  {
   "cell_type": "code",
   "execution_count": 21,
   "metadata": {},
   "outputs": [
    {
     "data": {
      "image/png": "[encoded data removed]",
      "text/plain": [
       "<Figure size 720x576 with 1 Axes>"
      ]
     },
     "metadata": {
      "needs_background": "light"
     },
     "output_type": "display_data"
    }
   ],
   "source": [
    "# visualize logerror\n",
    "sns.scatterplot(range(train.shape[0]), np.sort(train.logerror.values), color='green', linewidth=0 , s=30)\n",
    "plt.xlabel('index')\n",
    "plt.ylabel('logerror')\n",
    "plt.title('Distribution of Logerror')\n",
    "plt.show()"
   ]
  },
  {
   "cell_type": "markdown",
   "metadata": {},
   "source": [
    "**There are outliers present, especially on the side of negative logerror. I will handle these on the next iteration of this section.**"
   ]
  },
  {
   "cell_type": "code",
   "execution_count": 19,
   "metadata": {},
   "outputs": [
    {
     "data": {
      "text/plain": [
       "<matplotlib.axes._subplots.AxesSubplot at 0x118677a30>"
      ]
     },
     "execution_count": 19,
     "metadata": {},
     "output_type": "execute_result"
    },
    {
     "data": {
      "image/png": "[encoded data removed]",
      "text/plain": [
       "<Figure size 720x576 with 2 Axes>"
      ]
     },
     "metadata": {
      "needs_background": "light"
     },
     "output_type": "display_data"
    }
   ],
   "source": [
    "# heatmap time!\n",
    "heatmap_data = X_train_scaled.drop(columns=['latitude', 'longitude'])\n",
    "corr = heatmap_data.corr()\n",
    "mask = np.triu(np.ones_like(corr, dtype=bool))\n",
    "ax = sns.heatmap(corr, mask=mask, center=0, vmin=-1, vmax=1, cmap=sns.diverging_palette(95, 220, n=250, s=93, l=35), square=True) \n",
    "ax.set_xticklabels(ax.get_xticklabels(), rotation=45, horizontalalignment='right')\n",
    "ax.set_yticklabels(ax.get_yticklabels(), rotation=0, horizontalalignment='right')\n",
    "plt.title('Which features have significant correlation?')\n",
    "ax"
   ]
  },
  {
   "cell_type": "code",
   "execution_count": null,
   "metadata": {},
   "outputs": [],
   "source": [
    "# heatmap time!\n",
    "heatmap_data = X_train_scaled.drop(columns=['latitude', 'longitude'])\n",
    "corr = heatmap_data.corr()\n",
    "mask = np.triu(np.ones_like(corr, dtype=bool))\n",
    "ax = sns.heatmap(corr, mask=mask, center=0, vmin=-1, vmax=1, cmap=sns.diverging_palette(95, 220, n=250, s=93, l=35), square=True) \n",
    "ax.set_xticklabels(ax.get_xticklabels(), rotation=45, horizontalalignment='right')\n",
    "ax.set_yticklabels(ax.get_yticklabels(), rotation=0, horizontalalignment='right')\n",
    "plt.title('Which features have more log error?')\n",
    "ax"
   ]
  },
  {
   "cell_type": "markdown",
   "metadata": {},
   "source": [
    "### One statistical test"
   ]
  },
  {
   "cell_type": "code",
   "execution_count": null,
   "metadata": {},
   "outputs": [],
   "source": []
  }
 ],
 "metadata": {
  "kernelspec": {
   "display_name": "Python 3",
   "language": "python",
   "name": "python3"
  },
  "language_info": {
   "codemirror_mode": {
    "name": "ipython",
    "version": 3
   },
   "file_extension": ".py",
   "mimetype": "text/x-python",
   "name": "python",
   "nbconvert_exporter": "python",
   "pygments_lexer": "ipython3",
   "version": "3.8.3"
  }
 },
 "nbformat": 4,
 "nbformat_minor": 4
}
