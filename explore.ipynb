{
 "cells": [
  {
   "cell_type": "markdown",
   "metadata": {},
   "source": [
    "# Kwame's Zillow Zestimates Error Control\n",
    "\n",
    "Table of contents with header links goes here.\n",
    "\n",
    "## explore.ipynb"
   ]
  },
  {
   "cell_type": "markdown",
   "metadata": {},
   "source": [
    "### When this section of the pipeline is done being coded, I will transfer internal code to ```explore.py``` and external code and output to the final notebook.\n",
    "\n",
    "**I may make this the final notebook with a rename and cleanup.**"
   ]
  },
  {
   "cell_type": "markdown",
   "metadata": {},
   "source": [
    "### Set up the environment"
   ]
  },
  {
   "cell_type": "code",
   "execution_count": 1,
   "metadata": {},
   "outputs": [],
   "source": [
    "# ignore warnings\n",
    "import warnings\n",
    "warnings.filterwarnings(\"ignore\")\n",
    "\n",
    "# import necessary packages/modules\n",
    "import pandas as pd\n",
    "import numpy as np\n",
    "import matplotlib.pyplot as plt\n",
    "import seaborn as sns\n",
    "from scipy import stats\n",
    "from math import sqrt\n",
    "\n",
    "from wrangle import get_zillow_data, prepare_zillow\n",
    "from preprocessing import zillow_main_split, zillow_Xy_split, impute_nulls, zillow_scale\n",
    "\n",
    "# default viz size settings\n",
    "plt.rc('figure', figsize=(10, 8))\n",
    "plt.rc('font', size=14)\n",
    "\n",
    "# default pandas decimal number display format\n",
    "pd.options.display.float_format = '{:20,.2f}'.format"
   ]
  },
  {
   "cell_type": "markdown",
   "metadata": {},
   "source": [
    "### Acquire the data"
   ]
  },
  {
   "cell_type": "code",
   "execution_count": 2,
   "metadata": {},
   "outputs": [
    {
     "data": {
      "text/plain": [
       "(77580, 69)"
      ]
     },
     "execution_count": 2,
     "metadata": {},
     "output_type": "execute_result"
    }
   ],
   "source": [
    "df = get_zillow_data()\n",
    "df.shape"
   ]
  },
  {
   "cell_type": "markdown",
   "metadata": {},
   "source": [
    "### Tidy the data"
   ]
  },
  {
   "cell_type": "code",
   "execution_count": 3,
   "metadata": {},
   "outputs": [
    {
     "data": {
      "text/html": [
       "<div>\n",
       "<style scoped>\n",
       "    .dataframe tbody tr th:only-of-type {\n",
       "        vertical-align: middle;\n",
       "    }\n",
       "\n",
       "    .dataframe tbody tr th {\n",
       "        vertical-align: top;\n",
       "    }\n",
       "\n",
       "    .dataframe thead th {\n",
       "        text-align: right;\n",
       "    }\n",
       "</style>\n",
       "<table border=\"1\" class=\"dataframe\">\n",
       "  <thead>\n",
       "    <tr style=\"text-align: right;\">\n",
       "      <th></th>\n",
       "      <th>bathcnt</th>\n",
       "      <th>bedcnt</th>\n",
       "      <th>sqft</th>\n",
       "      <th>latitude</th>\n",
       "      <th>longitude</th>\n",
       "      <th>county</th>\n",
       "      <th>yearbuilt</th>\n",
       "      <th>value</th>\n",
       "      <th>logerror</th>\n",
       "    </tr>\n",
       "    <tr>\n",
       "      <th>parcelid</th>\n",
       "      <th></th>\n",
       "      <th></th>\n",
       "      <th></th>\n",
       "      <th></th>\n",
       "      <th></th>\n",
       "      <th></th>\n",
       "      <th></th>\n",
       "      <th></th>\n",
       "      <th></th>\n",
       "    </tr>\n",
       "  </thead>\n",
       "  <tbody>\n",
       "    <tr>\n",
       "      <th>14297519</th>\n",
       "      <td>3.50</td>\n",
       "      <td>4.00</td>\n",
       "      <td>3,100.00</td>\n",
       "      <td>33,634,931.00</td>\n",
       "      <td>-117,869,207.00</td>\n",
       "      <td>Orange</td>\n",
       "      <td>1,998.00</td>\n",
       "      <td>1,023,282.00</td>\n",
       "      <td>0.03</td>\n",
       "    </tr>\n",
       "    <tr>\n",
       "      <th>17052889</th>\n",
       "      <td>1.00</td>\n",
       "      <td>2.00</td>\n",
       "      <td>1,465.00</td>\n",
       "      <td>34,449,266.00</td>\n",
       "      <td>-119,281,531.00</td>\n",
       "      <td>Ventura</td>\n",
       "      <td>1,967.00</td>\n",
       "      <td>464,000.00</td>\n",
       "      <td>0.06</td>\n",
       "    </tr>\n",
       "    <tr>\n",
       "      <th>14186244</th>\n",
       "      <td>2.00</td>\n",
       "      <td>3.00</td>\n",
       "      <td>1,243.00</td>\n",
       "      <td>33,886,168.00</td>\n",
       "      <td>-117,823,170.00</td>\n",
       "      <td>Orange</td>\n",
       "      <td>1,962.00</td>\n",
       "      <td>564,778.00</td>\n",
       "      <td>0.01</td>\n",
       "    </tr>\n",
       "    <tr>\n",
       "      <th>12177905</th>\n",
       "      <td>3.00</td>\n",
       "      <td>4.00</td>\n",
       "      <td>2,376.00</td>\n",
       "      <td>34,245,180.00</td>\n",
       "      <td>-118,240,722.00</td>\n",
       "      <td>Los Angeles</td>\n",
       "      <td>1,970.00</td>\n",
       "      <td>145,143.00</td>\n",
       "      <td>-0.10</td>\n",
       "    </tr>\n",
       "    <tr>\n",
       "      <th>12095076</th>\n",
       "      <td>3.00</td>\n",
       "      <td>4.00</td>\n",
       "      <td>2,962.00</td>\n",
       "      <td>34,145,202.00</td>\n",
       "      <td>-118,179,824.00</td>\n",
       "      <td>Los Angeles</td>\n",
       "      <td>1,950.00</td>\n",
       "      <td>773,303.00</td>\n",
       "      <td>-0.00</td>\n",
       "    </tr>\n",
       "  </tbody>\n",
       "</table>\n",
       "</div>"
      ],
      "text/plain": [
       "                      bathcnt               bedcnt                 sqft  \\\n",
       "parcelid                                                                  \n",
       "14297519                 3.50                 4.00             3,100.00   \n",
       "17052889                 1.00                 2.00             1,465.00   \n",
       "14186244                 2.00                 3.00             1,243.00   \n",
       "12177905                 3.00                 4.00             2,376.00   \n",
       "12095076                 3.00                 4.00             2,962.00   \n",
       "\n",
       "                     latitude            longitude       county  \\\n",
       "parcelid                                                          \n",
       "14297519        33,634,931.00      -117,869,207.00       Orange   \n",
       "17052889        34,449,266.00      -119,281,531.00      Ventura   \n",
       "14186244        33,886,168.00      -117,823,170.00       Orange   \n",
       "12177905        34,245,180.00      -118,240,722.00  Los Angeles   \n",
       "12095076        34,145,202.00      -118,179,824.00  Los Angeles   \n",
       "\n",
       "                    yearbuilt                value             logerror  \n",
       "parcelid                                                                 \n",
       "14297519             1,998.00         1,023,282.00                 0.03  \n",
       "17052889             1,967.00           464,000.00                 0.06  \n",
       "14186244             1,962.00           564,778.00                 0.01  \n",
       "12177905             1,970.00           145,143.00                -0.10  \n",
       "12095076             1,950.00           773,303.00                -0.00  "
      ]
     },
     "execution_count": 3,
     "metadata": {},
     "output_type": "execute_result"
    }
   ],
   "source": [
    "df = prepare_zillow(df)\n",
    "df.head()"
   ]
  },
  {
   "cell_type": "markdown",
   "metadata": {},
   "source": [
    "### Summarize the clean data"
   ]
  },
  {
   "cell_type": "code",
   "execution_count": 4,
   "metadata": {},
   "outputs": [
    {
     "data": {
      "text/plain": [
       "(52412, 9)"
      ]
     },
     "execution_count": 4,
     "metadata": {},
     "output_type": "execute_result"
    }
   ],
   "source": [
    "df.shape"
   ]
  },
  {
   "cell_type": "code",
   "execution_count": 5,
   "metadata": {},
   "outputs": [
    {
     "name": "stdout",
     "output_type": "stream",
     "text": [
      "<class 'pandas.core.frame.DataFrame'>\n",
      "Int64Index: 52412 entries, 14297519 to 13083743\n",
      "Data columns (total 9 columns):\n",
      " #   Column     Non-Null Count  Dtype  \n",
      "---  ------     --------------  -----  \n",
      " 0   bathcnt    52412 non-null  float64\n",
      " 1   bedcnt     52412 non-null  float64\n",
      " 2   sqft       52330 non-null  float64\n",
      " 3   latitude   52412 non-null  float64\n",
      " 4   longitude  52412 non-null  float64\n",
      " 5   county     52412 non-null  object \n",
      " 6   yearbuilt  52296 non-null  float64\n",
      " 7   value      52411 non-null  float64\n",
      " 8   logerror   52412 non-null  float64\n",
      "dtypes: float64(8), object(1)\n",
      "memory usage: 4.0+ MB\n"
     ]
    }
   ],
   "source": [
    "df.info()"
   ]
  },
  {
   "cell_type": "code",
   "execution_count": 6,
   "metadata": {},
   "outputs": [
    {
     "data": {
      "text/plain": [
       "bathcnt        0\n",
       "bedcnt         0\n",
       "sqft          82\n",
       "latitude       0\n",
       "longitude      0\n",
       "county         0\n",
       "yearbuilt    116\n",
       "value          1\n",
       "logerror       0\n",
       "dtype: int64"
      ]
     },
     "execution_count": 6,
     "metadata": {},
     "output_type": "execute_result"
    }
   ],
   "source": [
    "df.isnull().sum()"
   ]
  },
  {
   "cell_type": "markdown",
   "metadata": {},
   "source": [
    "The remaining nulls have to be imputed after the data split so that we aren't cheating with our data sets."
   ]
  },
  {
   "cell_type": "markdown",
   "metadata": {},
   "source": [
    "### Split the data into train, validate, test."
   ]
  },
  {
   "cell_type": "code",
   "execution_count": 7,
   "metadata": {},
   "outputs": [],
   "source": [
    "# main split\n",
    "train, validate, test = zillow_main_split(df)"
   ]
  },
  {
   "cell_type": "code",
   "execution_count": 8,
   "metadata": {},
   "outputs": [
    {
     "name": "stdout",
     "output_type": "stream",
     "text": [
      "Shape of train data: (29350, 9)\n",
      "Shape of validate data: (12579, 9)\n",
      "Shape of test data: (10483, 9)\n"
     ]
    }
   ],
   "source": [
    "print(f'Shape of train data: {train.shape}')\n",
    "print(f'Shape of validate data: {validate.shape}')\n",
    "print(f'Shape of test data: {test.shape}')"
   ]
  },
  {
   "cell_type": "markdown",
   "metadata": {},
   "source": [
    "### Impute the remaining nulls with medians."
   ]
  },
  {
   "cell_type": "code",
   "execution_count": 9,
   "metadata": {},
   "outputs": [
    {
     "data": {
      "text/plain": [
       "bathcnt      0\n",
       "bedcnt       0\n",
       "sqft         0\n",
       "latitude     0\n",
       "longitude    0\n",
       "county       0\n",
       "yearbuilt    0\n",
       "value        0\n",
       "logerror     0\n",
       "dtype: int64"
      ]
     },
     "execution_count": 9,
     "metadata": {},
     "output_type": "execute_result"
    }
   ],
   "source": [
    "train = impute_nulls(train)\n",
    "train.isnull().sum()"
   ]
  },
  {
   "cell_type": "code",
   "execution_count": 10,
   "metadata": {},
   "outputs": [
    {
     "data": {
      "text/plain": [
       "bathcnt      0\n",
       "bedcnt       0\n",
       "sqft         0\n",
       "latitude     0\n",
       "longitude    0\n",
       "county       0\n",
       "yearbuilt    0\n",
       "value        0\n",
       "logerror     0\n",
       "dtype: int64"
      ]
     },
     "execution_count": 10,
     "metadata": {},
     "output_type": "execute_result"
    }
   ],
   "source": [
    "validate = impute_nulls(validate)\n",
    "validate.isnull().sum()"
   ]
  },
  {
   "cell_type": "code",
   "execution_count": 11,
   "metadata": {},
   "outputs": [
    {
     "data": {
      "text/plain": [
       "bathcnt      0\n",
       "bedcnt       0\n",
       "sqft         0\n",
       "latitude     0\n",
       "longitude    0\n",
       "county       0\n",
       "yearbuilt    0\n",
       "value        0\n",
       "logerror     0\n",
       "dtype: int64"
      ]
     },
     "execution_count": 11,
     "metadata": {},
     "output_type": "execute_result"
    }
   ],
   "source": [
    "test = impute_nulls(test)\n",
    "test.isnull().sum()"
   ]
  },
  {
   "cell_type": "markdown",
   "metadata": {},
   "source": [
    "### Split the data into X and y train, X and y validate, X and y test."
   ]
  },
  {
   "cell_type": "code",
   "execution_count": 12,
   "metadata": {},
   "outputs": [],
   "source": [
    "X_train, X_validate, X_test, y_train, y_validate, y_test = zillow_Xy_split(train, validate, test)"
   ]
  },
  {
   "cell_type": "code",
   "execution_count": 13,
   "metadata": {},
   "outputs": [
    {
     "name": "stdout",
     "output_type": "stream",
     "text": [
      "Shape of X train data: (29350, 8)\n",
      "Shape of X validate data: (12579, 8)\n",
      "Shape of X test data: (10483, 8)\n",
      "\n",
      "\n",
      "Shape of y train data: (29350,)\n",
      "Shape of y validate data: (12579,)\n",
      "Shape of y test data: (10483,)\n"
     ]
    }
   ],
   "source": [
    "# checking to make sure data was split correctly\n",
    "print(f'Shape of X train data: {X_train.shape}')\n",
    "print(f'Shape of X validate data: {X_validate.shape}')\n",
    "print(f'Shape of X test data: {X_test.shape}')\n",
    "print('\\n')\n",
    "print(f'Shape of y train data: {y_train.shape}')\n",
    "print(f'Shape of y validate data: {y_validate.shape}')\n",
    "print(f'Shape of y test data: {y_test.shape}')"
   ]
  },
  {
   "cell_type": "markdown",
   "metadata": {},
   "source": [
    "### Explore the data and create visualizations"
   ]
  },
  {
   "cell_type": "code",
   "execution_count": 32,
   "metadata": {},
   "outputs": [
    {
     "data": {
      "text/plain": [
       "Los Angeles    18930\n",
       "Orange          7982\n",
       "Ventura         2438\n",
       "Name: county, dtype: int64"
      ]
     },
     "execution_count": 32,
     "metadata": {},
     "output_type": "execute_result"
    }
   ],
   "source": [
    "train.county.value_counts()"
   ]
  },
  {
   "cell_type": "code",
   "execution_count": 33,
   "metadata": {},
   "outputs": [
    {
     "data": {
      "text/html": [
       "<div>\n",
       "<style scoped>\n",
       "    .dataframe tbody tr th:only-of-type {\n",
       "        vertical-align: middle;\n",
       "    }\n",
       "\n",
       "    .dataframe tbody tr th {\n",
       "        vertical-align: top;\n",
       "    }\n",
       "\n",
       "    .dataframe thead th {\n",
       "        text-align: right;\n",
       "    }\n",
       "</style>\n",
       "<table border=\"1\" class=\"dataframe\">\n",
       "  <thead>\n",
       "    <tr style=\"text-align: right;\">\n",
       "      <th></th>\n",
       "      <th>bathcnt</th>\n",
       "      <th>bedcnt</th>\n",
       "      <th>sqft</th>\n",
       "      <th>latitude</th>\n",
       "      <th>longitude</th>\n",
       "      <th>county</th>\n",
       "      <th>yearbuilt</th>\n",
       "      <th>value</th>\n",
       "      <th>logerror</th>\n",
       "    </tr>\n",
       "    <tr>\n",
       "      <th>parcelid</th>\n",
       "      <th></th>\n",
       "      <th></th>\n",
       "      <th></th>\n",
       "      <th></th>\n",
       "      <th></th>\n",
       "      <th></th>\n",
       "      <th></th>\n",
       "      <th></th>\n",
       "      <th></th>\n",
       "    </tr>\n",
       "  </thead>\n",
       "  <tbody>\n",
       "    <tr>\n",
       "      <th>10750905</th>\n",
       "      <td>4.00</td>\n",
       "      <td>4.00</td>\n",
       "      <td>3,042.00</td>\n",
       "      <td>34,114,888.00</td>\n",
       "      <td>-118,778,261.00</td>\n",
       "      <td>Los Angeles</td>\n",
       "      <td>1,994.00</td>\n",
       "      <td>864,723.00</td>\n",
       "      <td>0.05</td>\n",
       "    </tr>\n",
       "    <tr>\n",
       "      <th>13051572</th>\n",
       "      <td>3.00</td>\n",
       "      <td>4.00</td>\n",
       "      <td>2,585.00</td>\n",
       "      <td>34,127,116.00</td>\n",
       "      <td>-117,721,756.00</td>\n",
       "      <td>Los Angeles</td>\n",
       "      <td>1,973.00</td>\n",
       "      <td>315,858.00</td>\n",
       "      <td>0.04</td>\n",
       "    </tr>\n",
       "    <tr>\n",
       "      <th>11419247</th>\n",
       "      <td>1.00</td>\n",
       "      <td>2.00</td>\n",
       "      <td>836.00</td>\n",
       "      <td>33,912,458.00</td>\n",
       "      <td>-118,355,995.00</td>\n",
       "      <td>Los Angeles</td>\n",
       "      <td>1,947.00</td>\n",
       "      <td>337,222.00</td>\n",
       "      <td>-0.07</td>\n",
       "    </tr>\n",
       "    <tr>\n",
       "      <th>14025918</th>\n",
       "      <td>2.00</td>\n",
       "      <td>3.00</td>\n",
       "      <td>1,308.00</td>\n",
       "      <td>33,682,631.00</td>\n",
       "      <td>-117,906,377.00</td>\n",
       "      <td>Orange</td>\n",
       "      <td>1,963.00</td>\n",
       "      <td>662,000.00</td>\n",
       "      <td>0.06</td>\n",
       "    </tr>\n",
       "    <tr>\n",
       "      <th>11842800</th>\n",
       "      <td>3.00</td>\n",
       "      <td>5.00</td>\n",
       "      <td>1,496.00</td>\n",
       "      <td>34,056,805.00</td>\n",
       "      <td>-118,127,133.00</td>\n",
       "      <td>Los Angeles</td>\n",
       "      <td>1,926.00</td>\n",
       "      <td>432,902.00</td>\n",
       "      <td>0.16</td>\n",
       "    </tr>\n",
       "  </tbody>\n",
       "</table>\n",
       "</div>"
      ],
      "text/plain": [
       "                      bathcnt               bedcnt                 sqft  \\\n",
       "parcelid                                                                  \n",
       "10750905                 4.00                 4.00             3,042.00   \n",
       "13051572                 3.00                 4.00             2,585.00   \n",
       "11419247                 1.00                 2.00               836.00   \n",
       "14025918                 2.00                 3.00             1,308.00   \n",
       "11842800                 3.00                 5.00             1,496.00   \n",
       "\n",
       "                     latitude            longitude       county  \\\n",
       "parcelid                                                          \n",
       "10750905        34,114,888.00      -118,778,261.00  Los Angeles   \n",
       "13051572        34,127,116.00      -117,721,756.00  Los Angeles   \n",
       "11419247        33,912,458.00      -118,355,995.00  Los Angeles   \n",
       "14025918        33,682,631.00      -117,906,377.00       Orange   \n",
       "11842800        34,056,805.00      -118,127,133.00  Los Angeles   \n",
       "\n",
       "                    yearbuilt                value             logerror  \n",
       "parcelid                                                                 \n",
       "10750905             1,994.00           864,723.00                 0.05  \n",
       "13051572             1,973.00           315,858.00                 0.04  \n",
       "11419247             1,947.00           337,222.00                -0.07  \n",
       "14025918             1,963.00           662,000.00                 0.06  \n",
       "11842800             1,926.00           432,902.00                 0.16  "
      ]
     },
     "execution_count": 33,
     "metadata": {},
     "output_type": "execute_result"
    }
   ],
   "source": [
    "train.head()"
   ]
  },
  {
   "cell_type": "code",
   "execution_count": 34,
   "metadata": {},
   "outputs": [
    {
     "data": {
      "image/png": "[encoded data removed]",
      "text/plain": [
       "<Figure size 504x360 with 1 Axes>"
      ]
     },
     "metadata": {
      "needs_background": "light"
     },
     "output_type": "display_data"
    }
   ],
   "source": [
    "# visualize logerror\n",
    "plt.figure(figsize=(7,5))\n",
    "plt.scatter(range(train.shape[0]), np.sort(train.logerror.values), color='Orange')\n",
    "plt.xlabel('index')\n",
    "plt.ylabel('logerror')\n",
    "plt.title('Distribution of Logerror')\n",
    "plt.show()"
   ]
  },
  {
   "cell_type": "markdown",
   "metadata": {},
   "source": [
    "**There are outliers present, especially on the side of negative logerror. I will handle these on the next iteration of this section.**"
   ]
  },
  {
   "cell_type": "code",
   "execution_count": 35,
   "metadata": {},
   "outputs": [
    {
     "data": {
      "text/plain": [
       "Index(['bathcnt', 'bedcnt', 'sqft', 'latitude', 'longitude', 'county',\n",
       "       'yearbuilt', 'value', 'logerror'],\n",
       "      dtype='object')"
      ]
     },
     "execution_count": 35,
     "metadata": {},
     "output_type": "execute_result"
    }
   ],
   "source": [
    "train.columns"
   ]
  },
  {
   "cell_type": "code",
   "execution_count": 58,
   "metadata": {},
   "outputs": [
    {
     "data": {
      "text/plain": [
       "<matplotlib.axes._subplots.AxesSubplot at 0x11eaf9ca0>"
      ]
     },
     "execution_count": 58,
     "metadata": {},
     "output_type": "execute_result"
    },
    {
     "data": {
      "image/png": "[encoded data removed]",
      "text/plain": [
       "<Figure size 720x576 with 2 Axes>"
      ]
     },
     "metadata": {
      "needs_background": "light"
     },
     "output_type": "display_data"
    }
   ],
   "source": [
    "# heatmap time!\n",
    "heatmap_data = train.drop(columns=['latitude', 'longitude'])\n",
    "corr = heatmap_data.corr()\n",
    "mask = np.triu(np.ones_like(corr, dtype=bool))\n",
    "ax = sns.heatmap(corr, mask=mask, center=0, cmap=sns.diverging_palette(20, 220, n=200), square=True) \n",
    "ax.set_xticklabels(ax.get_xticklabels(), rotation=45, horizontalalignment='right')\n",
    "ax.set_yticklabels(ax.get_yticklabels(), rotation=0, horizontalalignment='right')\n",
    "ax"
   ]
  },
  {
   "cell_type": "markdown",
   "metadata": {},
   "source": [
    "**I need to scale the data for better results.**"
   ]
  },
  {
   "cell_type": "code",
   "execution_count": null,
   "metadata": {},
   "outputs": [],
   "source": []
  }
 ],
 "metadata": {
  "kernelspec": {
   "display_name": "Python 3",
   "language": "python",
   "name": "python3"
  },
  "language_info": {
   "codemirror_mode": {
    "name": "ipython",
    "version": 3
   },
   "file_extension": ".py",
   "mimetype": "text/x-python",
   "name": "python",
   "nbconvert_exporter": "python",
   "pygments_lexer": "ipython3",
   "version": "3.8.3"
  }
 },
 "nbformat": 4,
 "nbformat_minor": 4
}
