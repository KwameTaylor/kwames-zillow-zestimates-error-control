{
 "cells": [
  {
   "cell_type": "markdown",
   "metadata": {},
   "source": [
    "# Kwame's Zillow Zestimates Error Control\n",
    "\n",
    "Table of contents with header links goes here.\n",
    "\n",
    "## explore.ipynb"
   ]
  },
  {
   "cell_type": "markdown",
   "metadata": {},
   "source": [
    "### When this section of the pipeline is done being coded, I will transfer internal code to ```explore.py``` and external code and output to the final notebook.\n",
    "\n",
    "**I may make this the final notebook with a rename and cleanup.**"
   ]
  },
  {
   "cell_type": "markdown",
   "metadata": {},
   "source": [
    "### Set up the environment"
   ]
  },
  {
   "cell_type": "code",
   "execution_count": 1,
   "metadata": {},
   "outputs": [],
   "source": [
    "# ignore warnings\n",
    "import warnings\n",
    "warnings.filterwarnings(\"ignore\")\n",
    "\n",
    "# import necessary packages/modules\n",
    "import pandas as pd\n",
    "import numpy as np\n",
    "import matplotlib.pyplot as plt\n",
    "import seaborn as sns\n",
    "from scipy import stats\n",
    "from math import sqrt\n",
    "\n",
    "from wrangle import get_zillow_data, prepare_zillow\n",
    "from preprocessing import zillow_main_split, zillow_Xy_split, impute_nulls, zillow_scale\n",
    "from explore import viz_logerror, corr_heatmap, ttest_viz, ttest_hypo\n",
    "from model import cluster1, cluster1_viz, choose_k\n",
    "\n",
    "# default viz size settings\n",
    "plt.rc('figure', figsize=(9, 7))\n",
    "plt.rc('font', size=13)\n",
    "\n",
    "# default pandas decimal number display format\n",
    "#pd.options.display.float_format = '{:20,.2f}'.format"
   ]
  },
  {
   "cell_type": "markdown",
   "metadata": {},
   "source": [
    "### Acquire the data"
   ]
  },
  {
   "cell_type": "code",
   "execution_count": 2,
   "metadata": {},
   "outputs": [
    {
     "data": {
      "text/plain": [
       "(77580, 69)"
      ]
     },
     "execution_count": 2,
     "metadata": {},
     "output_type": "execute_result"
    }
   ],
   "source": [
    "df = get_zillow_data()\n",
    "df.shape"
   ]
  },
  {
   "cell_type": "markdown",
   "metadata": {},
   "source": [
    "### Tidy the data"
   ]
  },
  {
   "cell_type": "code",
   "execution_count": 3,
   "metadata": {},
   "outputs": [
    {
     "data": {
      "text/html": [
       "<div>\n",
       "<style scoped>\n",
       "    .dataframe tbody tr th:only-of-type {\n",
       "        vertical-align: middle;\n",
       "    }\n",
       "\n",
       "    .dataframe tbody tr th {\n",
       "        vertical-align: top;\n",
       "    }\n",
       "\n",
       "    .dataframe thead th {\n",
       "        text-align: right;\n",
       "    }\n",
       "</style>\n",
       "<table border=\"1\" class=\"dataframe\">\n",
       "  <thead>\n",
       "    <tr style=\"text-align: right;\">\n",
       "      <th></th>\n",
       "      <th>bathcnt</th>\n",
       "      <th>sqft</th>\n",
       "      <th>latitude</th>\n",
       "      <th>longitude</th>\n",
       "      <th>county</th>\n",
       "      <th>yearbuilt</th>\n",
       "      <th>value</th>\n",
       "      <th>logerror</th>\n",
       "      <th>bathbedcnt</th>\n",
       "      <th>decade</th>\n",
       "      <th>century</th>\n",
       "    </tr>\n",
       "    <tr>\n",
       "      <th>parcelid</th>\n",
       "      <th></th>\n",
       "      <th></th>\n",
       "      <th></th>\n",
       "      <th></th>\n",
       "      <th></th>\n",
       "      <th></th>\n",
       "      <th></th>\n",
       "      <th></th>\n",
       "      <th></th>\n",
       "      <th></th>\n",
       "      <th></th>\n",
       "    </tr>\n",
       "  </thead>\n",
       "  <tbody>\n",
       "    <tr>\n",
       "      <th>14297519</th>\n",
       "      <td>3.50</td>\n",
       "      <td>3,100.00</td>\n",
       "      <td>33,634,931.00</td>\n",
       "      <td>-117,869,207.00</td>\n",
       "      <td>1</td>\n",
       "      <td>1,998.00</td>\n",
       "      <td>1,023,282.00</td>\n",
       "      <td>0.03</td>\n",
       "      <td>7.50</td>\n",
       "      <td>199.00</td>\n",
       "      <td>19.00</td>\n",
       "    </tr>\n",
       "    <tr>\n",
       "      <th>17052889</th>\n",
       "      <td>1.00</td>\n",
       "      <td>1,465.00</td>\n",
       "      <td>34,449,266.00</td>\n",
       "      <td>-119,281,531.00</td>\n",
       "      <td>2</td>\n",
       "      <td>1,967.00</td>\n",
       "      <td>464,000.00</td>\n",
       "      <td>0.06</td>\n",
       "      <td>3.00</td>\n",
       "      <td>196.00</td>\n",
       "      <td>19.00</td>\n",
       "    </tr>\n",
       "    <tr>\n",
       "      <th>14186244</th>\n",
       "      <td>2.00</td>\n",
       "      <td>1,243.00</td>\n",
       "      <td>33,886,168.00</td>\n",
       "      <td>-117,823,170.00</td>\n",
       "      <td>1</td>\n",
       "      <td>1,962.00</td>\n",
       "      <td>564,778.00</td>\n",
       "      <td>0.01</td>\n",
       "      <td>5.00</td>\n",
       "      <td>196.00</td>\n",
       "      <td>19.00</td>\n",
       "    </tr>\n",
       "  </tbody>\n",
       "</table>\n",
       "</div>"
      ],
      "text/plain": [
       "                      bathcnt                 sqft             latitude  \\\n",
       "parcelid                                                                  \n",
       "14297519                 3.50             3,100.00        33,634,931.00   \n",
       "17052889                 1.00             1,465.00        34,449,266.00   \n",
       "14186244                 2.00             1,243.00        33,886,168.00   \n",
       "\n",
       "                    longitude  county            yearbuilt  \\\n",
       "parcelid                                                     \n",
       "14297519      -117,869,207.00       1             1,998.00   \n",
       "17052889      -119,281,531.00       2             1,967.00   \n",
       "14186244      -117,823,170.00       1             1,962.00   \n",
       "\n",
       "                        value             logerror           bathbedcnt  \\\n",
       "parcelid                                                                  \n",
       "14297519         1,023,282.00                 0.03                 7.50   \n",
       "17052889           464,000.00                 0.06                 3.00   \n",
       "14186244           564,778.00                 0.01                 5.00   \n",
       "\n",
       "                       decade              century  \n",
       "parcelid                                            \n",
       "14297519               199.00                19.00  \n",
       "17052889               196.00                19.00  \n",
       "14186244               196.00                19.00  "
      ]
     },
     "execution_count": 3,
     "metadata": {},
     "output_type": "execute_result"
    }
   ],
   "source": [
    "df = prepare_zillow(df)\n",
    "df.head(3)"
   ]
  },
  {
   "cell_type": "markdown",
   "metadata": {},
   "source": [
    "### Summarize the clean data"
   ]
  },
  {
   "cell_type": "code",
   "execution_count": 4,
   "metadata": {},
   "outputs": [
    {
     "data": {
      "text/plain": [
       "(52296, 11)"
      ]
     },
     "execution_count": 4,
     "metadata": {},
     "output_type": "execute_result"
    }
   ],
   "source": [
    "df.shape"
   ]
  },
  {
   "cell_type": "code",
   "execution_count": 5,
   "metadata": {},
   "outputs": [
    {
     "name": "stdout",
     "output_type": "stream",
     "text": [
      "<class 'pandas.core.frame.DataFrame'>\n",
      "Int64Index: 52296 entries, 14297519 to 13083743\n",
      "Data columns (total 11 columns):\n",
      " #   Column      Non-Null Count  Dtype  \n",
      "---  ------      --------------  -----  \n",
      " 0   bathcnt     52296 non-null  float64\n",
      " 1   sqft        52291 non-null  float64\n",
      " 2   latitude    52296 non-null  float64\n",
      " 3   longitude   52296 non-null  float64\n",
      " 4   county      52296 non-null  int64  \n",
      " 5   yearbuilt   52296 non-null  float64\n",
      " 6   value       52295 non-null  float64\n",
      " 7   logerror    52296 non-null  float64\n",
      " 8   bathbedcnt  52296 non-null  float64\n",
      " 9   decade      52296 non-null  float64\n",
      " 10  century     52296 non-null  float64\n",
      "dtypes: float64(10), int64(1)\n",
      "memory usage: 4.8 MB\n"
     ]
    }
   ],
   "source": [
    "df.info()"
   ]
  },
  {
   "cell_type": "code",
   "execution_count": 6,
   "metadata": {},
   "outputs": [
    {
     "data": {
      "text/plain": [
       "bathcnt       0\n",
       "sqft          5\n",
       "latitude      0\n",
       "longitude     0\n",
       "county        0\n",
       "yearbuilt     0\n",
       "value         1\n",
       "logerror      0\n",
       "bathbedcnt    0\n",
       "decade        0\n",
       "century       0\n",
       "dtype: int64"
      ]
     },
     "execution_count": 6,
     "metadata": {},
     "output_type": "execute_result"
    }
   ],
   "source": [
    "df.isnull().sum()"
   ]
  },
  {
   "cell_type": "markdown",
   "metadata": {},
   "source": [
    "The remaining nulls have to be imputed after the data split so that we aren't cheating with our data sets."
   ]
  },
  {
   "cell_type": "markdown",
   "metadata": {},
   "source": [
    "### Split the data into train, validate, test."
   ]
  },
  {
   "cell_type": "code",
   "execution_count": 7,
   "metadata": {},
   "outputs": [],
   "source": [
    "# main split\n",
    "train, validate, test = zillow_main_split(df)"
   ]
  },
  {
   "cell_type": "code",
   "execution_count": 8,
   "metadata": {},
   "outputs": [
    {
     "name": "stdout",
     "output_type": "stream",
     "text": [
      "Shape of train data: (29285, 11)\n",
      "Shape of validate data: (12551, 11)\n",
      "Shape of test data: (10460, 11)\n"
     ]
    }
   ],
   "source": [
    "print(f'Shape of train data: {train.shape}')\n",
    "print(f'Shape of validate data: {validate.shape}')\n",
    "print(f'Shape of test data: {test.shape}')"
   ]
  },
  {
   "cell_type": "markdown",
   "metadata": {},
   "source": [
    "### Impute the remaining nulls with medians."
   ]
  },
  {
   "cell_type": "code",
   "execution_count": 9,
   "metadata": {},
   "outputs": [
    {
     "data": {
      "text/plain": [
       "bathcnt       0\n",
       "sqft          0\n",
       "latitude      0\n",
       "longitude     0\n",
       "county        0\n",
       "yearbuilt     0\n",
       "value         0\n",
       "logerror      0\n",
       "bathbedcnt    0\n",
       "decade        0\n",
       "century       0\n",
       "dtype: int64"
      ]
     },
     "execution_count": 9,
     "metadata": {},
     "output_type": "execute_result"
    }
   ],
   "source": [
    "train = impute_nulls(train)\n",
    "train.isnull().sum()"
   ]
  },
  {
   "cell_type": "code",
   "execution_count": 10,
   "metadata": {},
   "outputs": [
    {
     "data": {
      "text/plain": [
       "bathcnt       0\n",
       "sqft          0\n",
       "latitude      0\n",
       "longitude     0\n",
       "county        0\n",
       "yearbuilt     0\n",
       "value         0\n",
       "logerror      0\n",
       "bathbedcnt    0\n",
       "decade        0\n",
       "century       0\n",
       "dtype: int64"
      ]
     },
     "execution_count": 10,
     "metadata": {},
     "output_type": "execute_result"
    }
   ],
   "source": [
    "validate = impute_nulls(validate)\n",
    "validate.isnull().sum()"
   ]
  },
  {
   "cell_type": "code",
   "execution_count": 11,
   "metadata": {},
   "outputs": [
    {
     "data": {
      "text/plain": [
       "bathcnt       0\n",
       "sqft          0\n",
       "latitude      0\n",
       "longitude     0\n",
       "county        0\n",
       "yearbuilt     0\n",
       "value         0\n",
       "logerror      0\n",
       "bathbedcnt    0\n",
       "decade        0\n",
       "century       0\n",
       "dtype: int64"
      ]
     },
     "execution_count": 11,
     "metadata": {},
     "output_type": "execute_result"
    }
   ],
   "source": [
    "test = impute_nulls(test)\n",
    "test.isnull().sum()"
   ]
  },
  {
   "cell_type": "markdown",
   "metadata": {},
   "source": [
    "### Split the data into X and y train, X and y validate, X and y test."
   ]
  },
  {
   "cell_type": "code",
   "execution_count": 12,
   "metadata": {},
   "outputs": [],
   "source": [
    "X_train, X_validate, X_test, y_train, y_validate, y_test = zillow_Xy_split(train, validate, test)"
   ]
  },
  {
   "cell_type": "code",
   "execution_count": 13,
   "metadata": {},
   "outputs": [
    {
     "name": "stdout",
     "output_type": "stream",
     "text": [
      "Shape of X train data: (29285, 10)\n",
      "Shape of X validate data: (12551, 10)\n",
      "Shape of X test data: (10460, 10)\n",
      "\n",
      "\n",
      "Shape of y train data: (29285,)\n",
      "Shape of y validate data: (12551,)\n",
      "Shape of y test data: (10460,)\n"
     ]
    }
   ],
   "source": [
    "# checking to make sure data was split correctly\n",
    "print(f'Shape of X train data: {X_train.shape}')\n",
    "print(f'Shape of X validate data: {X_validate.shape}')\n",
    "print(f'Shape of X test data: {X_test.shape}')\n",
    "print('\\n')\n",
    "print(f'Shape of y train data: {y_train.shape}')\n",
    "print(f'Shape of y validate data: {y_validate.shape}')\n",
    "print(f'Shape of y test data: {y_test.shape}')"
   ]
  },
  {
   "cell_type": "markdown",
   "metadata": {},
   "source": [
    "### Scale the data and encode county"
   ]
  },
  {
   "cell_type": "code",
   "execution_count": 14,
   "metadata": {},
   "outputs": [
    {
     "data": {
      "text/html": [
       "<div>\n",
       "<style scoped>\n",
       "    .dataframe tbody tr th:only-of-type {\n",
       "        vertical-align: middle;\n",
       "    }\n",
       "\n",
       "    .dataframe tbody tr th {\n",
       "        vertical-align: top;\n",
       "    }\n",
       "\n",
       "    .dataframe thead th {\n",
       "        text-align: right;\n",
       "    }\n",
       "</style>\n",
       "<table border=\"1\" class=\"dataframe\">\n",
       "  <thead>\n",
       "    <tr style=\"text-align: right;\">\n",
       "      <th></th>\n",
       "      <th>bathcnt</th>\n",
       "      <th>sqft</th>\n",
       "      <th>latitude</th>\n",
       "      <th>longitude</th>\n",
       "      <th>county</th>\n",
       "      <th>yearbuilt</th>\n",
       "      <th>value</th>\n",
       "      <th>bathbedcnt</th>\n",
       "      <th>decade</th>\n",
       "      <th>century</th>\n",
       "    </tr>\n",
       "    <tr>\n",
       "      <th>parcelid</th>\n",
       "      <th></th>\n",
       "      <th></th>\n",
       "      <th></th>\n",
       "      <th></th>\n",
       "      <th></th>\n",
       "      <th></th>\n",
       "      <th></th>\n",
       "      <th></th>\n",
       "      <th></th>\n",
       "      <th></th>\n",
       "    </tr>\n",
       "  </thead>\n",
       "  <tbody>\n",
       "    <tr>\n",
       "      <th>13060986</th>\n",
       "      <td>0.18</td>\n",
       "      <td>0.14</td>\n",
       "      <td>0.47</td>\n",
       "      <td>0.87</td>\n",
       "      <td>0.00</td>\n",
       "      <td>0.62</td>\n",
       "      <td>0.02</td>\n",
       "      <td>0.30</td>\n",
       "      <td>0.62</td>\n",
       "      <td>0.50</td>\n",
       "    </tr>\n",
       "    <tr>\n",
       "      <th>14323887</th>\n",
       "      <td>0.64</td>\n",
       "      <td>0.53</td>\n",
       "      <td>0.18</td>\n",
       "      <td>0.85</td>\n",
       "      <td>0.50</td>\n",
       "      <td>0.85</td>\n",
       "      <td>0.13</td>\n",
       "      <td>0.65</td>\n",
       "      <td>0.85</td>\n",
       "      <td>0.50</td>\n",
       "    </tr>\n",
       "    <tr>\n",
       "      <th>11921805</th>\n",
       "      <td>0.18</td>\n",
       "      <td>0.10</td>\n",
       "      <td>0.54</td>\n",
       "      <td>0.72</td>\n",
       "      <td>0.00</td>\n",
       "      <td>0.38</td>\n",
       "      <td>0.04</td>\n",
       "      <td>0.25</td>\n",
       "      <td>0.38</td>\n",
       "      <td>0.50</td>\n",
       "    </tr>\n",
       "  </tbody>\n",
       "</table>\n",
       "</div>"
      ],
      "text/plain": [
       "                      bathcnt                 sqft             latitude  \\\n",
       "parcelid                                                                  \n",
       "13060986                 0.18                 0.14                 0.47   \n",
       "14323887                 0.64                 0.53                 0.18   \n",
       "11921805                 0.18                 0.10                 0.54   \n",
       "\n",
       "                    longitude               county            yearbuilt  \\\n",
       "parcelid                                                                  \n",
       "13060986                 0.87                 0.00                 0.62   \n",
       "14323887                 0.85                 0.50                 0.85   \n",
       "11921805                 0.72                 0.00                 0.38   \n",
       "\n",
       "                        value           bathbedcnt               decade  \\\n",
       "parcelid                                                                  \n",
       "13060986                 0.02                 0.30                 0.62   \n",
       "14323887                 0.13                 0.65                 0.85   \n",
       "11921805                 0.04                 0.25                 0.38   \n",
       "\n",
       "                      century  \n",
       "parcelid                       \n",
       "13060986                 0.50  \n",
       "14323887                 0.50  \n",
       "11921805                 0.50  "
      ]
     },
     "execution_count": 14,
     "metadata": {},
     "output_type": "execute_result"
    }
   ],
   "source": [
    "scaler, X_train_scaled, X_validate_scaled, X_test_scaled = zillow_scale(X_train, X_validate, X_test)\n",
    "X_train_scaled.head(3)"
   ]
  },
  {
   "cell_type": "markdown",
   "metadata": {},
   "source": [
    "### Explore the data and create visualizations"
   ]
  },
  {
   "cell_type": "code",
   "execution_count": 15,
   "metadata": {},
   "outputs": [
    {
     "data": {
      "image/png": "[encoded data removed]",
      "text/plain": [
       "<Figure size 648x504 with 1 Axes>"
      ]
     },
     "metadata": {
      "needs_background": "light"
     },
     "output_type": "display_data"
    }
   ],
   "source": [
    "viz_logerror(train)"
   ]
  },
  {
   "cell_type": "markdown",
   "metadata": {},
   "source": [
    "**There are outliers present, especially on the side of negative logerror. I will handle these on the next iteration of this section.**"
   ]
  },
  {
   "cell_type": "code",
   "execution_count": 16,
   "metadata": {},
   "outputs": [
    {
     "data": {
      "image/png": "[encoded data removed]",
      "text/plain": [
       "<Figure size 648x504 with 2 Axes>"
      ]
     },
     "metadata": {
      "needs_background": "light"
     },
     "output_type": "display_data"
    }
   ],
   "source": [
    "corr_heatmap(X_train_scaled)"
   ]
  },
  {
   "cell_type": "code",
   "execution_count": 17,
   "metadata": {},
   "outputs": [
    {
     "data": {
      "text/plain": [
       "(array([  32.,  210.,  454., 3149., 2975., 7336., 7995., 2579., 2055.,\n",
       "        2500.]),\n",
       " array([188. , 189.3, 190.6, 191.9, 193.2, 194.5, 195.8, 197.1, 198.4,\n",
       "        199.7, 201. ]),\n",
       " <a list of 10 Patch objects>)"
      ]
     },
     "execution_count": 17,
     "metadata": {},
     "output_type": "execute_result"
    },
    {
     "data": {
      "image/png": "[encoded data removed]",
      "text/plain": [
       "<Figure size 648x504 with 1 Axes>"
      ]
     },
     "metadata": {
      "needs_background": "light"
     },
     "output_type": "display_data"
    }
   ],
   "source": [
    "plt.hist(train.decade)"
   ]
  },
  {
   "cell_type": "code",
   "execution_count": 18,
   "metadata": {},
   "outputs": [
    {
     "data": {
      "text/plain": [
       "Text(0.5, 1.0, 'Which properties have more log error, by year built bins and county?')"
      ]
     },
     "execution_count": 18,
     "metadata": {},
     "output_type": "execute_result"
    },
    {
     "data": {
      "image/png": "[encoded data removed]",
      "text/plain": [
       "<Figure size 648x504 with 2 Axes>"
      ]
     },
     "metadata": {
      "needs_background": "light"
     },
     "output_type": "display_data"
    }
   ],
   "source": [
    "# pandas pivot\n",
    "heatmap1_data = pd.pivot_table(train, values='logerror', \n",
    "                     index=pd.cut(train['yearbuilt'], bins=6, precision=0), \n",
    "                     columns='county')\n",
    "heatmap1_data.sort_index(inplace=True, ascending=False)\n",
    "sns.heatmap(heatmap1_data, cmap=\"RdPu\", square=True)\n",
    "plt.title('Which properties have more log error, by year built bins and county?')"
   ]
  },
  {
   "cell_type": "markdown",
   "metadata": {},
   "source": [
    "'Los Angeles': 0,\n",
    "\n",
    "'Orange': 1,\n",
    "\n",
    "'Ventura': 2"
   ]
  },
  {
   "cell_type": "markdown",
   "metadata": {},
   "source": [
    "Looks like properties built in the 1800s and early 1900s have slightly more log error, especially in Ventura county. Granted, there are not very many properties that meet those criteria, so let's do a statisical test to find out if it's significant or not. There seems to be slightly more log error in Orange county."
   ]
  },
  {
   "cell_type": "code",
   "execution_count": 19,
   "metadata": {},
   "outputs": [
    {
     "data": {
      "text/plain": [
       "19.00    26753\n",
       "20.00     2500\n",
       "18.00       32\n",
       "Name: century, dtype: int64"
      ]
     },
     "execution_count": 19,
     "metadata": {},
     "output_type": "execute_result"
    }
   ],
   "source": [
    "#keep this in final notebook\n",
    "train.century.value_counts(dropna=False)"
   ]
  },
  {
   "cell_type": "markdown",
   "metadata": {},
   "source": [
    "### One statistical test - 1 sample 2 tailed T-test: categorical vs cont."
   ]
  },
  {
   "cell_type": "markdown",
   "metadata": {},
   "source": [
    "## Is there a significant difference in the log error of Zestimates on properties built in the 1800s and the overall log error?"
   ]
  },
  {
   "cell_type": "markdown",
   "metadata": {},
   "source": [
    "$\n",
    "\\begin{align*}\n",
    "   H_0 & : \\text{There is no difference in Zestimate log error in properties built in the 1800s and the overall log error.}\n",
    "   \\\\\n",
    "   H_a & : \\text{There is a difference in Zestimate log error in properties built in the 1800s and the overall log error.}\n",
    "   \\\\\n",
    "    \\alpha & : \\text{0.05}\n",
    "\\end{align*}\n",
    "$"
   ]
  },
  {
   "cell_type": "code",
   "execution_count": 20,
   "metadata": {},
   "outputs": [
    {
     "data": {
      "image/png": "[encoded data removed]",
      "text/plain": [
       "<Figure size 648x504 with 1 Axes>"
      ]
     },
     "metadata": {
      "needs_background": "light"
     },
     "output_type": "display_data"
    },
    {
     "data": {
      "image/png": "[encoded data removed]",
      "text/plain": [
       "<Figure size 648x504 with 1 Axes>"
      ]
     },
     "metadata": {
      "needs_background": "light"
     },
     "output_type": "display_data"
    },
    {
     "name": "stdout",
     "output_type": "stream",
     "text": [
      "Compare the median and mean:\n",
      " 0.01868501980613076 0.00695327101882\n"
     ]
    }
   ],
   "source": [
    "ttest_viz(train)"
   ]
  },
  {
   "cell_type": "markdown",
   "metadata": {},
   "source": [
    "There are some outliers, but I will say that the mean and median are close enough for this iteration. I will remove outliers in the next iteration."
   ]
  },
  {
   "cell_type": "markdown",
   "metadata": {},
   "source": [
    "**Now that we know the variable has a normal distribution and we compared the mean and median, we can run the T-test.**"
   ]
  },
  {
   "cell_type": "code",
   "execution_count": 21,
   "metadata": {},
   "outputs": [
    {
     "name": "stdout",
     "output_type": "stream",
     "text": [
      "t = -0.265\n",
      "p = 0.793\n",
      "We fail to reject the null hypothesis.\n"
     ]
    }
   ],
   "source": [
    "ttest_hypo(train)"
   ]
  },
  {
   "cell_type": "markdown",
   "metadata": {},
   "source": [
    "**There doesn't seem to be a statistically significant difference in log error in properties built in the 1800s and the overall log error.**\n",
    "\n",
    "**However I do notice that the distribution of the log error of properties built in the 1800s is skewed differently from the overall log error.**"
   ]
  },
  {
   "cell_type": "markdown",
   "metadata": {},
   "source": [
    "### Stats test 2?"
   ]
  },
  {
   "cell_type": "code",
   "execution_count": 22,
   "metadata": {},
   "outputs": [
    {
     "data": {
      "text/plain": [
       "Index(['bathcnt', 'sqft', 'latitude', 'longitude', 'county', 'yearbuilt',\n",
       "       'value', 'logerror', 'bathbedcnt', 'decade', 'century'],\n",
       "      dtype='object')"
      ]
     },
     "execution_count": 22,
     "metadata": {},
     "output_type": "execute_result"
    }
   ],
   "source": [
    "train.columns"
   ]
  },
  {
   "cell_type": "code",
   "execution_count": 23,
   "metadata": {},
   "outputs": [
    {
     "data": {
      "image/png": "[encoded data removed]",
      "text/plain": [
       "<Figure size 432x432 with 3 Axes>"
      ]
     },
     "metadata": {
      "needs_background": "light"
     },
     "output_type": "display_data"
    }
   ],
   "source": [
    "sns.jointplot(x=\"bathbedcnt\", y=\"logerror\", data=train)\n",
    "plt.xlabel(\"bathbedcnt\")\n",
    "plt.ylabel(\"logerror\")\n",
    "plt.title(\"Is there a relationship between\\nbathrooms + bedrooms count\\nand log error?\\n\")\n",
    "plt.show()"
   ]
  },
  {
   "cell_type": "code",
   "execution_count": 24,
   "metadata": {},
   "outputs": [
    {
     "data": {
      "image/png": "[encoded data removed]",
      "text/plain": [
       "<Figure size 432x432 with 3 Axes>"
      ]
     },
     "metadata": {
      "needs_background": "light"
     },
     "output_type": "display_data"
    }
   ],
   "source": [
    "sns.jointplot(x=\"value\", y=\"logerror\", data=train)\n",
    "plt.xlabel(\"Property Value\")\n",
    "plt.ylabel(\"Log error\")\n",
    "plt.title(\"Is there a relationship\\nbetween property value and log error?\\n\")\n",
    "plt.show()"
   ]
  },
  {
   "cell_type": "markdown",
   "metadata": {},
   "source": [
    "It seems like there is definitely more error amongst lower value properties."
   ]
  },
  {
   "cell_type": "code",
   "execution_count": 25,
   "metadata": {},
   "outputs": [
    {
     "data": {
      "image/png": "[encoded data removed]",
      "text/plain": [
       "<Figure size 432x432 with 3 Axes>"
      ]
     },
     "metadata": {
      "needs_background": "light"
     },
     "output_type": "display_data"
    }
   ],
   "source": [
    "sns.jointplot(x=\"county\", y=\"logerror\", data=train)\n",
    "plt.xlabel(\"County\")\n",
    "plt.ylabel(\"Log error\")\n",
    "plt.title(\"Is there a relationship\\nbetween county and log error?\\n\")\n",
    "plt.show()"
   ]
  },
  {
   "cell_type": "markdown",
   "metadata": {},
   "source": [
    "More log error in Los Angeles county."
   ]
  },
  {
   "cell_type": "code",
   "execution_count": 26,
   "metadata": {},
   "outputs": [
    {
     "data": {
      "text/plain": [
       "<matplotlib.axes._subplots.AxesSubplot at 0x12609ae50>"
      ]
     },
     "execution_count": 26,
     "metadata": {},
     "output_type": "execute_result"
    },
    {
     "data": {
      "image/png": "[encoded data removed]",
      "text/plain": [
       "<Figure size 648x504 with 1 Axes>"
      ]
     },
     "metadata": {
      "needs_background": "light"
     },
     "output_type": "display_data"
    }
   ],
   "source": [
    "sns.distplot(train.value)"
   ]
  },
  {
   "cell_type": "markdown",
   "metadata": {},
   "source": [
    "Looks normally distributed enough, so I can run a Pearson's R test on this. I will do that statistical testing in the next iteration through the pipeline."
   ]
  },
  {
   "cell_type": "markdown",
   "metadata": {},
   "source": [
    "### Next step in exploration: Study up on how to use clustering to make groups of like properties to target log error."
   ]
  },
  {
   "cell_type": "markdown",
   "metadata": {},
   "source": [
    "# Modeling"
   ]
  },
  {
   "cell_type": "markdown",
   "metadata": {},
   "source": [
    "### Next step in modeling: Finish building a functioning MVP model, even if I don't totally understand how it works."
   ]
  },
  {
   "cell_type": "markdown",
   "metadata": {},
   "source": [
    "Note to self:\n",
    "\n",
    "I kinda understood how to do it on the iris data but kind of lost how to use it here. Ask for help this week and join study sessions. Make sure to sleep enough too."
   ]
  },
  {
   "cell_type": "code",
   "execution_count": 27,
   "metadata": {},
   "outputs": [
    {
     "data": {
      "text/plain": [
       "bathcnt       0\n",
       "sqft          0\n",
       "latitude      0\n",
       "longitude     0\n",
       "county        0\n",
       "yearbuilt     0\n",
       "value         0\n",
       "logerror      0\n",
       "bathbedcnt    0\n",
       "decade        0\n",
       "century       0\n",
       "dtype: int64"
      ]
     },
     "execution_count": 27,
     "metadata": {},
     "output_type": "execute_result"
    }
   ],
   "source": [
    "train.isnull().sum()"
   ]
  },
  {
   "cell_type": "code",
   "execution_count": 28,
   "metadata": {},
   "outputs": [
    {
     "data": {
      "text/html": [
       "<div>\n",
       "<style scoped>\n",
       "    .dataframe tbody tr th:only-of-type {\n",
       "        vertical-align: middle;\n",
       "    }\n",
       "\n",
       "    .dataframe tbody tr th {\n",
       "        vertical-align: top;\n",
       "    }\n",
       "\n",
       "    .dataframe thead th {\n",
       "        text-align: right;\n",
       "    }\n",
       "</style>\n",
       "<table border=\"1\" class=\"dataframe\">\n",
       "  <thead>\n",
       "    <tr style=\"text-align: right;\">\n",
       "      <th></th>\n",
       "      <th>bathcnt</th>\n",
       "      <th>sqft</th>\n",
       "      <th>latitude</th>\n",
       "      <th>longitude</th>\n",
       "      <th>county</th>\n",
       "      <th>yearbuilt</th>\n",
       "      <th>value</th>\n",
       "      <th>logerror</th>\n",
       "      <th>bathbedcnt</th>\n",
       "      <th>decade</th>\n",
       "      <th>century</th>\n",
       "    </tr>\n",
       "    <tr>\n",
       "      <th>parcelid</th>\n",
       "      <th></th>\n",
       "      <th></th>\n",
       "      <th></th>\n",
       "      <th></th>\n",
       "      <th></th>\n",
       "      <th></th>\n",
       "      <th></th>\n",
       "      <th></th>\n",
       "      <th></th>\n",
       "      <th></th>\n",
       "      <th></th>\n",
       "    </tr>\n",
       "  </thead>\n",
       "  <tbody>\n",
       "    <tr>\n",
       "      <th>13060986</th>\n",
       "      <td>2.00</td>\n",
       "      <td>2,219.00</td>\n",
       "      <td>34,031,614.00</td>\n",
       "      <td>-117,805,261.00</td>\n",
       "      <td>0</td>\n",
       "      <td>1,965.00</td>\n",
       "      <td>585,000.00</td>\n",
       "      <td>-0.02</td>\n",
       "      <td>6.00</td>\n",
       "      <td>196.00</td>\n",
       "      <td>19.00</td>\n",
       "    </tr>\n",
       "    <tr>\n",
       "      <th>14323887</th>\n",
       "      <td>7.00</td>\n",
       "      <td>8,322.00</td>\n",
       "      <td>33,601,061.00</td>\n",
       "      <td>-117,847,406.00</td>\n",
       "      <td>1</td>\n",
       "      <td>1,996.00</td>\n",
       "      <td>3,001,705.00</td>\n",
       "      <td>0.02</td>\n",
       "      <td>13.00</td>\n",
       "      <td>199.00</td>\n",
       "      <td>19.00</td>\n",
       "    </tr>\n",
       "    <tr>\n",
       "      <th>11921805</th>\n",
       "      <td>2.00</td>\n",
       "      <td>1,719.00</td>\n",
       "      <td>34,131,487.00</td>\n",
       "      <td>-118,084,411.00</td>\n",
       "      <td>0</td>\n",
       "      <td>1,931.00</td>\n",
       "      <td>911,736.00</td>\n",
       "      <td>0.02</td>\n",
       "      <td>5.00</td>\n",
       "      <td>193.00</td>\n",
       "      <td>19.00</td>\n",
       "    </tr>\n",
       "    <tr>\n",
       "      <th>11504971</th>\n",
       "      <td>3.00</td>\n",
       "      <td>2,350.00</td>\n",
       "      <td>33,896,023.00</td>\n",
       "      <td>-118,403,192.00</td>\n",
       "      <td>0</td>\n",
       "      <td>1,966.00</td>\n",
       "      <td>122,559.00</td>\n",
       "      <td>0.05</td>\n",
       "      <td>8.00</td>\n",
       "      <td>196.00</td>\n",
       "      <td>19.00</td>\n",
       "    </tr>\n",
       "    <tr>\n",
       "      <th>11603399</th>\n",
       "      <td>3.00</td>\n",
       "      <td>2,816.00</td>\n",
       "      <td>34,040,252.00</td>\n",
       "      <td>-118,397,448.00</td>\n",
       "      <td>0</td>\n",
       "      <td>1,951.00</td>\n",
       "      <td>1,888,364.00</td>\n",
       "      <td>0.01</td>\n",
       "      <td>7.00</td>\n",
       "      <td>195.00</td>\n",
       "      <td>19.00</td>\n",
       "    </tr>\n",
       "    <tr>\n",
       "      <th>...</th>\n",
       "      <td>...</td>\n",
       "      <td>...</td>\n",
       "      <td>...</td>\n",
       "      <td>...</td>\n",
       "      <td>...</td>\n",
       "      <td>...</td>\n",
       "      <td>...</td>\n",
       "      <td>...</td>\n",
       "      <td>...</td>\n",
       "      <td>...</td>\n",
       "      <td>...</td>\n",
       "    </tr>\n",
       "    <tr>\n",
       "      <th>12118605</th>\n",
       "      <td>2.00</td>\n",
       "      <td>1,853.00</td>\n",
       "      <td>34,160,025.00</td>\n",
       "      <td>-118,111,315.00</td>\n",
       "      <td>0</td>\n",
       "      <td>1,926.00</td>\n",
       "      <td>878,132.00</td>\n",
       "      <td>-0.03</td>\n",
       "      <td>6.00</td>\n",
       "      <td>192.00</td>\n",
       "      <td>19.00</td>\n",
       "    </tr>\n",
       "    <tr>\n",
       "      <th>14124447</th>\n",
       "      <td>2.50</td>\n",
       "      <td>2,088.00</td>\n",
       "      <td>33,850,614.00</td>\n",
       "      <td>-118,041,362.00</td>\n",
       "      <td>1</td>\n",
       "      <td>1,967.00</td>\n",
       "      <td>89,132.00</td>\n",
       "      <td>0.01</td>\n",
       "      <td>6.50</td>\n",
       "      <td>196.00</td>\n",
       "      <td>19.00</td>\n",
       "    </tr>\n",
       "    <tr>\n",
       "      <th>11906632</th>\n",
       "      <td>1.00</td>\n",
       "      <td>1,171.00</td>\n",
       "      <td>34,064,415.00</td>\n",
       "      <td>-118,139,905.00</td>\n",
       "      <td>0</td>\n",
       "      <td>1,950.00</td>\n",
       "      <td>67,460.00</td>\n",
       "      <td>-0.04</td>\n",
       "      <td>3.00</td>\n",
       "      <td>195.00</td>\n",
       "      <td>19.00</td>\n",
       "    </tr>\n",
       "    <tr>\n",
       "      <th>14201484</th>\n",
       "      <td>3.00</td>\n",
       "      <td>2,599.00</td>\n",
       "      <td>33,877,275.00</td>\n",
       "      <td>-117,717,483.00</td>\n",
       "      <td>1</td>\n",
       "      <td>1,987.00</td>\n",
       "      <td>403,475.00</td>\n",
       "      <td>0.03</td>\n",
       "      <td>7.00</td>\n",
       "      <td>198.00</td>\n",
       "      <td>19.00</td>\n",
       "    </tr>\n",
       "    <tr>\n",
       "      <th>11099623</th>\n",
       "      <td>1.00</td>\n",
       "      <td>1,039.00</td>\n",
       "      <td>34,221,627.00</td>\n",
       "      <td>-118,556,236.00</td>\n",
       "      <td>0</td>\n",
       "      <td>1,947.00</td>\n",
       "      <td>301,332.00</td>\n",
       "      <td>0.03</td>\n",
       "      <td>4.00</td>\n",
       "      <td>194.00</td>\n",
       "      <td>19.00</td>\n",
       "    </tr>\n",
       "  </tbody>\n",
       "</table>\n",
       "<p>29285 rows × 11 columns</p>\n",
       "</div>"
      ],
      "text/plain": [
       "                      bathcnt                 sqft             latitude  \\\n",
       "parcelid                                                                  \n",
       "13060986                 2.00             2,219.00        34,031,614.00   \n",
       "14323887                 7.00             8,322.00        33,601,061.00   \n",
       "11921805                 2.00             1,719.00        34,131,487.00   \n",
       "11504971                 3.00             2,350.00        33,896,023.00   \n",
       "11603399                 3.00             2,816.00        34,040,252.00   \n",
       "...                       ...                  ...                  ...   \n",
       "12118605                 2.00             1,853.00        34,160,025.00   \n",
       "14124447                 2.50             2,088.00        33,850,614.00   \n",
       "11906632                 1.00             1,171.00        34,064,415.00   \n",
       "14201484                 3.00             2,599.00        33,877,275.00   \n",
       "11099623                 1.00             1,039.00        34,221,627.00   \n",
       "\n",
       "                    longitude  county            yearbuilt  \\\n",
       "parcelid                                                     \n",
       "13060986      -117,805,261.00       0             1,965.00   \n",
       "14323887      -117,847,406.00       1             1,996.00   \n",
       "11921805      -118,084,411.00       0             1,931.00   \n",
       "11504971      -118,403,192.00       0             1,966.00   \n",
       "11603399      -118,397,448.00       0             1,951.00   \n",
       "...                       ...     ...                  ...   \n",
       "12118605      -118,111,315.00       0             1,926.00   \n",
       "14124447      -118,041,362.00       1             1,967.00   \n",
       "11906632      -118,139,905.00       0             1,950.00   \n",
       "14201484      -117,717,483.00       1             1,987.00   \n",
       "11099623      -118,556,236.00       0             1,947.00   \n",
       "\n",
       "                        value             logerror           bathbedcnt  \\\n",
       "parcelid                                                                  \n",
       "13060986           585,000.00                -0.02                 6.00   \n",
       "14323887         3,001,705.00                 0.02                13.00   \n",
       "11921805           911,736.00                 0.02                 5.00   \n",
       "11504971           122,559.00                 0.05                 8.00   \n",
       "11603399         1,888,364.00                 0.01                 7.00   \n",
       "...                       ...                  ...                  ...   \n",
       "12118605           878,132.00                -0.03                 6.00   \n",
       "14124447            89,132.00                 0.01                 6.50   \n",
       "11906632            67,460.00                -0.04                 3.00   \n",
       "14201484           403,475.00                 0.03                 7.00   \n",
       "11099623           301,332.00                 0.03                 4.00   \n",
       "\n",
       "                       decade              century  \n",
       "parcelid                                            \n",
       "13060986               196.00                19.00  \n",
       "14323887               199.00                19.00  \n",
       "11921805               193.00                19.00  \n",
       "11504971               196.00                19.00  \n",
       "11603399               195.00                19.00  \n",
       "...                       ...                  ...  \n",
       "12118605               192.00                19.00  \n",
       "14124447               196.00                19.00  \n",
       "11906632               195.00                19.00  \n",
       "14201484               198.00                19.00  \n",
       "11099623               194.00                19.00  \n",
       "\n",
       "[29285 rows x 11 columns]"
      ]
     },
     "execution_count": 28,
     "metadata": {},
     "output_type": "execute_result"
    }
   ],
   "source": [
    "train"
   ]
  },
  {
   "cell_type": "code",
   "execution_count": 29,
   "metadata": {},
   "outputs": [
    {
     "data": {
      "text/plain": [
       "0"
      ]
     },
     "execution_count": 29,
     "metadata": {},
     "output_type": "execute_result"
    }
   ],
   "source": [
    "df.yearbuilt.isnull().sum()"
   ]
  },
  {
   "cell_type": "code",
   "execution_count": 30,
   "metadata": {},
   "outputs": [
    {
     "data": {
      "text/html": [
       "<div>\n",
       "<style scoped>\n",
       "    .dataframe tbody tr th:only-of-type {\n",
       "        vertical-align: middle;\n",
       "    }\n",
       "\n",
       "    .dataframe tbody tr th {\n",
       "        vertical-align: top;\n",
       "    }\n",
       "\n",
       "    .dataframe thead th {\n",
       "        text-align: right;\n",
       "    }\n",
       "</style>\n",
       "<table border=\"1\" class=\"dataframe\">\n",
       "  <thead>\n",
       "    <tr style=\"text-align: right;\">\n",
       "      <th></th>\n",
       "      <th>bathcnt</th>\n",
       "      <th>sqft</th>\n",
       "      <th>latitude</th>\n",
       "      <th>longitude</th>\n",
       "      <th>county</th>\n",
       "      <th>yearbuilt</th>\n",
       "      <th>value</th>\n",
       "      <th>logerror</th>\n",
       "      <th>bathbedcnt</th>\n",
       "      <th>decade</th>\n",
       "      <th>century</th>\n",
       "    </tr>\n",
       "    <tr>\n",
       "      <th>parcelid</th>\n",
       "      <th></th>\n",
       "      <th></th>\n",
       "      <th></th>\n",
       "      <th></th>\n",
       "      <th></th>\n",
       "      <th></th>\n",
       "      <th></th>\n",
       "      <th></th>\n",
       "      <th></th>\n",
       "      <th></th>\n",
       "      <th></th>\n",
       "    </tr>\n",
       "  </thead>\n",
       "  <tbody>\n",
       "  </tbody>\n",
       "</table>\n",
       "</div>"
      ],
      "text/plain": [
       "Empty DataFrame\n",
       "Columns: [bathcnt, sqft, latitude, longitude, county, yearbuilt, value, logerror, bathbedcnt, decade, century]\n",
       "Index: []"
      ]
     },
     "execution_count": 30,
     "metadata": {},
     "output_type": "execute_result"
    }
   ],
   "source": [
    "train[train.decade.isnull()]"
   ]
  },
  {
   "cell_type": "code",
   "execution_count": 31,
   "metadata": {},
   "outputs": [
    {
     "data": {
      "text/html": [
       "<div>\n",
       "<style scoped>\n",
       "    .dataframe tbody tr th:only-of-type {\n",
       "        vertical-align: middle;\n",
       "    }\n",
       "\n",
       "    .dataframe tbody tr th {\n",
       "        vertical-align: top;\n",
       "    }\n",
       "\n",
       "    .dataframe thead th {\n",
       "        text-align: right;\n",
       "    }\n",
       "</style>\n",
       "<table border=\"1\" class=\"dataframe\">\n",
       "  <thead>\n",
       "    <tr style=\"text-align: right;\">\n",
       "      <th></th>\n",
       "      <th>bathcnt</th>\n",
       "      <th>sqft</th>\n",
       "      <th>latitude</th>\n",
       "      <th>longitude</th>\n",
       "      <th>county</th>\n",
       "      <th>yearbuilt</th>\n",
       "      <th>value</th>\n",
       "      <th>logerror</th>\n",
       "      <th>bathbedcnt</th>\n",
       "      <th>decade</th>\n",
       "      <th>century</th>\n",
       "    </tr>\n",
       "    <tr>\n",
       "      <th>parcelid</th>\n",
       "      <th></th>\n",
       "      <th></th>\n",
       "      <th></th>\n",
       "      <th></th>\n",
       "      <th></th>\n",
       "      <th></th>\n",
       "      <th></th>\n",
       "      <th></th>\n",
       "      <th></th>\n",
       "      <th></th>\n",
       "      <th></th>\n",
       "    </tr>\n",
       "  </thead>\n",
       "  <tbody>\n",
       "    <tr>\n",
       "      <th>13060986</th>\n",
       "      <td>2.00</td>\n",
       "      <td>2,219.00</td>\n",
       "      <td>34,031,614.00</td>\n",
       "      <td>-117,805,261.00</td>\n",
       "      <td>0</td>\n",
       "      <td>1,965.00</td>\n",
       "      <td>585,000.00</td>\n",
       "      <td>-0.02</td>\n",
       "      <td>6.00</td>\n",
       "      <td>196.00</td>\n",
       "      <td>19.00</td>\n",
       "    </tr>\n",
       "    <tr>\n",
       "      <th>14323887</th>\n",
       "      <td>7.00</td>\n",
       "      <td>8,322.00</td>\n",
       "      <td>33,601,061.00</td>\n",
       "      <td>-117,847,406.00</td>\n",
       "      <td>1</td>\n",
       "      <td>1,996.00</td>\n",
       "      <td>3,001,705.00</td>\n",
       "      <td>0.02</td>\n",
       "      <td>13.00</td>\n",
       "      <td>199.00</td>\n",
       "      <td>19.00</td>\n",
       "    </tr>\n",
       "    <tr>\n",
       "      <th>11921805</th>\n",
       "      <td>2.00</td>\n",
       "      <td>1,719.00</td>\n",
       "      <td>34,131,487.00</td>\n",
       "      <td>-118,084,411.00</td>\n",
       "      <td>0</td>\n",
       "      <td>1,931.00</td>\n",
       "      <td>911,736.00</td>\n",
       "      <td>0.02</td>\n",
       "      <td>5.00</td>\n",
       "      <td>193.00</td>\n",
       "      <td>19.00</td>\n",
       "    </tr>\n",
       "    <tr>\n",
       "      <th>11504971</th>\n",
       "      <td>3.00</td>\n",
       "      <td>2,350.00</td>\n",
       "      <td>33,896,023.00</td>\n",
       "      <td>-118,403,192.00</td>\n",
       "      <td>0</td>\n",
       "      <td>1,966.00</td>\n",
       "      <td>122,559.00</td>\n",
       "      <td>0.05</td>\n",
       "      <td>8.00</td>\n",
       "      <td>196.00</td>\n",
       "      <td>19.00</td>\n",
       "    </tr>\n",
       "    <tr>\n",
       "      <th>11603399</th>\n",
       "      <td>3.00</td>\n",
       "      <td>2,816.00</td>\n",
       "      <td>34,040,252.00</td>\n",
       "      <td>-118,397,448.00</td>\n",
       "      <td>0</td>\n",
       "      <td>1,951.00</td>\n",
       "      <td>1,888,364.00</td>\n",
       "      <td>0.01</td>\n",
       "      <td>7.00</td>\n",
       "      <td>195.00</td>\n",
       "      <td>19.00</td>\n",
       "    </tr>\n",
       "    <tr>\n",
       "      <th>...</th>\n",
       "      <td>...</td>\n",
       "      <td>...</td>\n",
       "      <td>...</td>\n",
       "      <td>...</td>\n",
       "      <td>...</td>\n",
       "      <td>...</td>\n",
       "      <td>...</td>\n",
       "      <td>...</td>\n",
       "      <td>...</td>\n",
       "      <td>...</td>\n",
       "      <td>...</td>\n",
       "    </tr>\n",
       "    <tr>\n",
       "      <th>12118605</th>\n",
       "      <td>2.00</td>\n",
       "      <td>1,853.00</td>\n",
       "      <td>34,160,025.00</td>\n",
       "      <td>-118,111,315.00</td>\n",
       "      <td>0</td>\n",
       "      <td>1,926.00</td>\n",
       "      <td>878,132.00</td>\n",
       "      <td>-0.03</td>\n",
       "      <td>6.00</td>\n",
       "      <td>192.00</td>\n",
       "      <td>19.00</td>\n",
       "    </tr>\n",
       "    <tr>\n",
       "      <th>14124447</th>\n",
       "      <td>2.50</td>\n",
       "      <td>2,088.00</td>\n",
       "      <td>33,850,614.00</td>\n",
       "      <td>-118,041,362.00</td>\n",
       "      <td>1</td>\n",
       "      <td>1,967.00</td>\n",
       "      <td>89,132.00</td>\n",
       "      <td>0.01</td>\n",
       "      <td>6.50</td>\n",
       "      <td>196.00</td>\n",
       "      <td>19.00</td>\n",
       "    </tr>\n",
       "    <tr>\n",
       "      <th>11906632</th>\n",
       "      <td>1.00</td>\n",
       "      <td>1,171.00</td>\n",
       "      <td>34,064,415.00</td>\n",
       "      <td>-118,139,905.00</td>\n",
       "      <td>0</td>\n",
       "      <td>1,950.00</td>\n",
       "      <td>67,460.00</td>\n",
       "      <td>-0.04</td>\n",
       "      <td>3.00</td>\n",
       "      <td>195.00</td>\n",
       "      <td>19.00</td>\n",
       "    </tr>\n",
       "    <tr>\n",
       "      <th>14201484</th>\n",
       "      <td>3.00</td>\n",
       "      <td>2,599.00</td>\n",
       "      <td>33,877,275.00</td>\n",
       "      <td>-117,717,483.00</td>\n",
       "      <td>1</td>\n",
       "      <td>1,987.00</td>\n",
       "      <td>403,475.00</td>\n",
       "      <td>0.03</td>\n",
       "      <td>7.00</td>\n",
       "      <td>198.00</td>\n",
       "      <td>19.00</td>\n",
       "    </tr>\n",
       "    <tr>\n",
       "      <th>11099623</th>\n",
       "      <td>1.00</td>\n",
       "      <td>1,039.00</td>\n",
       "      <td>34,221,627.00</td>\n",
       "      <td>-118,556,236.00</td>\n",
       "      <td>0</td>\n",
       "      <td>1,947.00</td>\n",
       "      <td>301,332.00</td>\n",
       "      <td>0.03</td>\n",
       "      <td>4.00</td>\n",
       "      <td>194.00</td>\n",
       "      <td>19.00</td>\n",
       "    </tr>\n",
       "  </tbody>\n",
       "</table>\n",
       "<p>29285 rows × 11 columns</p>\n",
       "</div>"
      ],
      "text/plain": [
       "                      bathcnt                 sqft             latitude  \\\n",
       "parcelid                                                                  \n",
       "13060986                 2.00             2,219.00        34,031,614.00   \n",
       "14323887                 7.00             8,322.00        33,601,061.00   \n",
       "11921805                 2.00             1,719.00        34,131,487.00   \n",
       "11504971                 3.00             2,350.00        33,896,023.00   \n",
       "11603399                 3.00             2,816.00        34,040,252.00   \n",
       "...                       ...                  ...                  ...   \n",
       "12118605                 2.00             1,853.00        34,160,025.00   \n",
       "14124447                 2.50             2,088.00        33,850,614.00   \n",
       "11906632                 1.00             1,171.00        34,064,415.00   \n",
       "14201484                 3.00             2,599.00        33,877,275.00   \n",
       "11099623                 1.00             1,039.00        34,221,627.00   \n",
       "\n",
       "                    longitude  county            yearbuilt  \\\n",
       "parcelid                                                     \n",
       "13060986      -117,805,261.00       0             1,965.00   \n",
       "14323887      -117,847,406.00       1             1,996.00   \n",
       "11921805      -118,084,411.00       0             1,931.00   \n",
       "11504971      -118,403,192.00       0             1,966.00   \n",
       "11603399      -118,397,448.00       0             1,951.00   \n",
       "...                       ...     ...                  ...   \n",
       "12118605      -118,111,315.00       0             1,926.00   \n",
       "14124447      -118,041,362.00       1             1,967.00   \n",
       "11906632      -118,139,905.00       0             1,950.00   \n",
       "14201484      -117,717,483.00       1             1,987.00   \n",
       "11099623      -118,556,236.00       0             1,947.00   \n",
       "\n",
       "                        value             logerror           bathbedcnt  \\\n",
       "parcelid                                                                  \n",
       "13060986           585,000.00                -0.02                 6.00   \n",
       "14323887         3,001,705.00                 0.02                13.00   \n",
       "11921805           911,736.00                 0.02                 5.00   \n",
       "11504971           122,559.00                 0.05                 8.00   \n",
       "11603399         1,888,364.00                 0.01                 7.00   \n",
       "...                       ...                  ...                  ...   \n",
       "12118605           878,132.00                -0.03                 6.00   \n",
       "14124447            89,132.00                 0.01                 6.50   \n",
       "11906632            67,460.00                -0.04                 3.00   \n",
       "14201484           403,475.00                 0.03                 7.00   \n",
       "11099623           301,332.00                 0.03                 4.00   \n",
       "\n",
       "                       decade              century  \n",
       "parcelid                                            \n",
       "13060986               196.00                19.00  \n",
       "14323887               199.00                19.00  \n",
       "11921805               193.00                19.00  \n",
       "11504971               196.00                19.00  \n",
       "11603399               195.00                19.00  \n",
       "...                       ...                  ...  \n",
       "12118605               192.00                19.00  \n",
       "14124447               196.00                19.00  \n",
       "11906632               195.00                19.00  \n",
       "14201484               198.00                19.00  \n",
       "11099623               194.00                19.00  \n",
       "\n",
       "[29285 rows x 11 columns]"
      ]
     },
     "execution_count": 31,
     "metadata": {},
     "output_type": "execute_result"
    }
   ],
   "source": [
    "train[train.decade.notnull()]"
   ]
  },
  {
   "cell_type": "code",
   "execution_count": 32,
   "metadata": {},
   "outputs": [
    {
     "data": {
      "text/plain": [
       "Index(['bathcnt', 'sqft', 'latitude', 'longitude', 'county', 'yearbuilt',\n",
       "       'value', 'bathbedcnt', 'decade', 'century'],\n",
       "      dtype='object')"
      ]
     },
     "execution_count": 32,
     "metadata": {},
     "output_type": "execute_result"
    }
   ],
   "source": [
    "X_train.columns"
   ]
  },
  {
   "cell_type": "code",
   "execution_count": 33,
   "metadata": {},
   "outputs": [
    {
     "name": "stdout",
     "output_type": "stream",
     "text": [
      "                county                value               decade  \\\n",
      "0                 0.00                 0.03                 0.81   \n",
      "1                 0.50                 0.02                 0.69   \n",
      "2                 0.00                 0.02                 0.31   \n",
      "3                 1.00                 0.02                 0.71   \n",
      "4                 0.00                 0.02                 0.54   \n",
      "\n",
      "            bathbedcnt  \n",
      "0                 0.34  \n",
      "1                 0.30  \n",
      "2                 0.23  \n",
      "3                 0.30  \n",
      "4                 0.25  \n",
      "(29285, 4)\n",
      "(29285,)\n"
     ]
    }
   ],
   "source": [
    "X = X_train_scaled[['county', 'value', 'decade', 'bathbedcnt']]\n",
    "cluster1(train, X, 5)"
   ]
  },
  {
   "cell_type": "code",
   "execution_count": 34,
   "metadata": {},
   "outputs": [
    {
     "data": {
      "text/html": [
       "<div>\n",
       "<style scoped>\n",
       "    .dataframe tbody tr th:only-of-type {\n",
       "        vertical-align: middle;\n",
       "    }\n",
       "\n",
       "    .dataframe tbody tr th {\n",
       "        vertical-align: top;\n",
       "    }\n",
       "\n",
       "    .dataframe thead th {\n",
       "        text-align: right;\n",
       "    }\n",
       "</style>\n",
       "<table border=\"1\" class=\"dataframe\">\n",
       "  <thead>\n",
       "    <tr style=\"text-align: right;\">\n",
       "      <th></th>\n",
       "      <th>bathcnt</th>\n",
       "      <th>sqft</th>\n",
       "      <th>latitude</th>\n",
       "      <th>longitude</th>\n",
       "      <th>county</th>\n",
       "      <th>yearbuilt</th>\n",
       "      <th>value</th>\n",
       "      <th>logerror</th>\n",
       "      <th>bathbedcnt</th>\n",
       "      <th>decade</th>\n",
       "      <th>century</th>\n",
       "      <th>cluster</th>\n",
       "    </tr>\n",
       "    <tr>\n",
       "      <th>parcelid</th>\n",
       "      <th></th>\n",
       "      <th></th>\n",
       "      <th></th>\n",
       "      <th></th>\n",
       "      <th></th>\n",
       "      <th></th>\n",
       "      <th></th>\n",
       "      <th></th>\n",
       "      <th></th>\n",
       "      <th></th>\n",
       "      <th></th>\n",
       "      <th></th>\n",
       "    </tr>\n",
       "  </thead>\n",
       "  <tbody>\n",
       "    <tr>\n",
       "      <th>13060986</th>\n",
       "      <td>2.00</td>\n",
       "      <td>2,219.00</td>\n",
       "      <td>34,031,614.00</td>\n",
       "      <td>-117,805,261.00</td>\n",
       "      <td>0</td>\n",
       "      <td>1,965.00</td>\n",
       "      <td>585,000.00</td>\n",
       "      <td>-0.02</td>\n",
       "      <td>6.00</td>\n",
       "      <td>196.00</td>\n",
       "      <td>19.00</td>\n",
       "      <td>4</td>\n",
       "    </tr>\n",
       "    <tr>\n",
       "      <th>14323887</th>\n",
       "      <td>7.00</td>\n",
       "      <td>8,322.00</td>\n",
       "      <td>33,601,061.00</td>\n",
       "      <td>-117,847,406.00</td>\n",
       "      <td>1</td>\n",
       "      <td>1,996.00</td>\n",
       "      <td>3,001,705.00</td>\n",
       "      <td>0.02</td>\n",
       "      <td>13.00</td>\n",
       "      <td>199.00</td>\n",
       "      <td>19.00</td>\n",
       "      <td>1</td>\n",
       "    </tr>\n",
       "    <tr>\n",
       "      <th>11921805</th>\n",
       "      <td>2.00</td>\n",
       "      <td>1,719.00</td>\n",
       "      <td>34,131,487.00</td>\n",
       "      <td>-118,084,411.00</td>\n",
       "      <td>0</td>\n",
       "      <td>1,931.00</td>\n",
       "      <td>911,736.00</td>\n",
       "      <td>0.02</td>\n",
       "      <td>5.00</td>\n",
       "      <td>193.00</td>\n",
       "      <td>19.00</td>\n",
       "      <td>2</td>\n",
       "    </tr>\n",
       "    <tr>\n",
       "      <th>11504971</th>\n",
       "      <td>3.00</td>\n",
       "      <td>2,350.00</td>\n",
       "      <td>33,896,023.00</td>\n",
       "      <td>-118,403,192.00</td>\n",
       "      <td>0</td>\n",
       "      <td>1,966.00</td>\n",
       "      <td>122,559.00</td>\n",
       "      <td>0.05</td>\n",
       "      <td>8.00</td>\n",
       "      <td>196.00</td>\n",
       "      <td>19.00</td>\n",
       "      <td>4</td>\n",
       "    </tr>\n",
       "    <tr>\n",
       "      <th>11603399</th>\n",
       "      <td>3.00</td>\n",
       "      <td>2,816.00</td>\n",
       "      <td>34,040,252.00</td>\n",
       "      <td>-118,397,448.00</td>\n",
       "      <td>0</td>\n",
       "      <td>1,951.00</td>\n",
       "      <td>1,888,364.00</td>\n",
       "      <td>0.01</td>\n",
       "      <td>7.00</td>\n",
       "      <td>195.00</td>\n",
       "      <td>19.00</td>\n",
       "      <td>4</td>\n",
       "    </tr>\n",
       "    <tr>\n",
       "      <th>...</th>\n",
       "      <td>...</td>\n",
       "      <td>...</td>\n",
       "      <td>...</td>\n",
       "      <td>...</td>\n",
       "      <td>...</td>\n",
       "      <td>...</td>\n",
       "      <td>...</td>\n",
       "      <td>...</td>\n",
       "      <td>...</td>\n",
       "      <td>...</td>\n",
       "      <td>...</td>\n",
       "      <td>...</td>\n",
       "    </tr>\n",
       "    <tr>\n",
       "      <th>12118605</th>\n",
       "      <td>2.00</td>\n",
       "      <td>1,853.00</td>\n",
       "      <td>34,160,025.00</td>\n",
       "      <td>-118,111,315.00</td>\n",
       "      <td>0</td>\n",
       "      <td>1,926.00</td>\n",
       "      <td>878,132.00</td>\n",
       "      <td>-0.03</td>\n",
       "      <td>6.00</td>\n",
       "      <td>192.00</td>\n",
       "      <td>19.00</td>\n",
       "      <td>2</td>\n",
       "    </tr>\n",
       "    <tr>\n",
       "      <th>14124447</th>\n",
       "      <td>2.50</td>\n",
       "      <td>2,088.00</td>\n",
       "      <td>33,850,614.00</td>\n",
       "      <td>-118,041,362.00</td>\n",
       "      <td>1</td>\n",
       "      <td>1,967.00</td>\n",
       "      <td>89,132.00</td>\n",
       "      <td>0.01</td>\n",
       "      <td>6.50</td>\n",
       "      <td>196.00</td>\n",
       "      <td>19.00</td>\n",
       "      <td>1</td>\n",
       "    </tr>\n",
       "    <tr>\n",
       "      <th>11906632</th>\n",
       "      <td>1.00</td>\n",
       "      <td>1,171.00</td>\n",
       "      <td>34,064,415.00</td>\n",
       "      <td>-118,139,905.00</td>\n",
       "      <td>0</td>\n",
       "      <td>1,950.00</td>\n",
       "      <td>67,460.00</td>\n",
       "      <td>-0.04</td>\n",
       "      <td>3.00</td>\n",
       "      <td>195.00</td>\n",
       "      <td>19.00</td>\n",
       "      <td>4</td>\n",
       "    </tr>\n",
       "    <tr>\n",
       "      <th>14201484</th>\n",
       "      <td>3.00</td>\n",
       "      <td>2,599.00</td>\n",
       "      <td>33,877,275.00</td>\n",
       "      <td>-117,717,483.00</td>\n",
       "      <td>1</td>\n",
       "      <td>1,987.00</td>\n",
       "      <td>403,475.00</td>\n",
       "      <td>0.03</td>\n",
       "      <td>7.00</td>\n",
       "      <td>198.00</td>\n",
       "      <td>19.00</td>\n",
       "      <td>1</td>\n",
       "    </tr>\n",
       "    <tr>\n",
       "      <th>11099623</th>\n",
       "      <td>1.00</td>\n",
       "      <td>1,039.00</td>\n",
       "      <td>34,221,627.00</td>\n",
       "      <td>-118,556,236.00</td>\n",
       "      <td>0</td>\n",
       "      <td>1,947.00</td>\n",
       "      <td>301,332.00</td>\n",
       "      <td>0.03</td>\n",
       "      <td>4.00</td>\n",
       "      <td>194.00</td>\n",
       "      <td>19.00</td>\n",
       "      <td>4</td>\n",
       "    </tr>\n",
       "  </tbody>\n",
       "</table>\n",
       "<p>29285 rows × 12 columns</p>\n",
       "</div>"
      ],
      "text/plain": [
       "                      bathcnt                 sqft             latitude  \\\n",
       "parcelid                                                                  \n",
       "13060986                 2.00             2,219.00        34,031,614.00   \n",
       "14323887                 7.00             8,322.00        33,601,061.00   \n",
       "11921805                 2.00             1,719.00        34,131,487.00   \n",
       "11504971                 3.00             2,350.00        33,896,023.00   \n",
       "11603399                 3.00             2,816.00        34,040,252.00   \n",
       "...                       ...                  ...                  ...   \n",
       "12118605                 2.00             1,853.00        34,160,025.00   \n",
       "14124447                 2.50             2,088.00        33,850,614.00   \n",
       "11906632                 1.00             1,171.00        34,064,415.00   \n",
       "14201484                 3.00             2,599.00        33,877,275.00   \n",
       "11099623                 1.00             1,039.00        34,221,627.00   \n",
       "\n",
       "                    longitude  county            yearbuilt  \\\n",
       "parcelid                                                     \n",
       "13060986      -117,805,261.00       0             1,965.00   \n",
       "14323887      -117,847,406.00       1             1,996.00   \n",
       "11921805      -118,084,411.00       0             1,931.00   \n",
       "11504971      -118,403,192.00       0             1,966.00   \n",
       "11603399      -118,397,448.00       0             1,951.00   \n",
       "...                       ...     ...                  ...   \n",
       "12118605      -118,111,315.00       0             1,926.00   \n",
       "14124447      -118,041,362.00       1             1,967.00   \n",
       "11906632      -118,139,905.00       0             1,950.00   \n",
       "14201484      -117,717,483.00       1             1,987.00   \n",
       "11099623      -118,556,236.00       0             1,947.00   \n",
       "\n",
       "                        value             logerror           bathbedcnt  \\\n",
       "parcelid                                                                  \n",
       "13060986           585,000.00                -0.02                 6.00   \n",
       "14323887         3,001,705.00                 0.02                13.00   \n",
       "11921805           911,736.00                 0.02                 5.00   \n",
       "11504971           122,559.00                 0.05                 8.00   \n",
       "11603399         1,888,364.00                 0.01                 7.00   \n",
       "...                       ...                  ...                  ...   \n",
       "12118605           878,132.00                -0.03                 6.00   \n",
       "14124447            89,132.00                 0.01                 6.50   \n",
       "11906632            67,460.00                -0.04                 3.00   \n",
       "14201484           403,475.00                 0.03                 7.00   \n",
       "11099623           301,332.00                 0.03                 4.00   \n",
       "\n",
       "                       decade              century  cluster  \n",
       "parcelid                                                     \n",
       "13060986               196.00                19.00        4  \n",
       "14323887               199.00                19.00        1  \n",
       "11921805               193.00                19.00        2  \n",
       "11504971               196.00                19.00        4  \n",
       "11603399               195.00                19.00        4  \n",
       "...                       ...                  ...      ...  \n",
       "12118605               192.00                19.00        2  \n",
       "14124447               196.00                19.00        1  \n",
       "11906632               195.00                19.00        4  \n",
       "14201484               198.00                19.00        1  \n",
       "11099623               194.00                19.00        4  \n",
       "\n",
       "[29285 rows x 12 columns]"
      ]
     },
     "execution_count": 34,
     "metadata": {},
     "output_type": "execute_result"
    }
   ],
   "source": [
    "train"
   ]
  },
  {
   "cell_type": "code",
   "execution_count": 35,
   "metadata": {},
   "outputs": [
    {
     "data": {
      "text/html": [
       "<div>\n",
       "<style scoped>\n",
       "    .dataframe tbody tr th:only-of-type {\n",
       "        vertical-align: middle;\n",
       "    }\n",
       "\n",
       "    .dataframe tbody tr th {\n",
       "        vertical-align: top;\n",
       "    }\n",
       "\n",
       "    .dataframe thead th {\n",
       "        text-align: right;\n",
       "    }\n",
       "</style>\n",
       "<table border=\"1\" class=\"dataframe\">\n",
       "  <thead>\n",
       "    <tr style=\"text-align: right;\">\n",
       "      <th></th>\n",
       "      <th>bathcnt</th>\n",
       "      <th>sqft</th>\n",
       "      <th>latitude</th>\n",
       "      <th>longitude</th>\n",
       "      <th>county</th>\n",
       "      <th>yearbuilt</th>\n",
       "      <th>value</th>\n",
       "      <th>logerror</th>\n",
       "      <th>bathbedcnt</th>\n",
       "      <th>decade</th>\n",
       "      <th>century</th>\n",
       "    </tr>\n",
       "    <tr>\n",
       "      <th>cluster</th>\n",
       "      <th></th>\n",
       "      <th></th>\n",
       "      <th></th>\n",
       "      <th></th>\n",
       "      <th></th>\n",
       "      <th></th>\n",
       "      <th></th>\n",
       "      <th></th>\n",
       "      <th></th>\n",
       "      <th></th>\n",
       "      <th></th>\n",
       "    </tr>\n",
       "  </thead>\n",
       "  <tbody>\n",
       "    <tr>\n",
       "      <th>0</th>\n",
       "      <td>3.00</td>\n",
       "      <td>2,499.10</td>\n",
       "      <td>34,308,863.73</td>\n",
       "      <td>-118,237,336.35</td>\n",
       "      <td>0.00</td>\n",
       "      <td>1,989.79</td>\n",
       "      <td>657,076.44</td>\n",
       "      <td>0.02</td>\n",
       "      <td>6.76</td>\n",
       "      <td>198.52</td>\n",
       "      <td>19.28</td>\n",
       "    </tr>\n",
       "    <tr>\n",
       "      <th>1</th>\n",
       "      <td>2.51</td>\n",
       "      <td>2,117.57</td>\n",
       "      <td>33,715,802.12</td>\n",
       "      <td>-117,833,087.05</td>\n",
       "      <td>1.00</td>\n",
       "      <td>1,974.15</td>\n",
       "      <td>596,249.88</td>\n",
       "      <td>0.03</td>\n",
       "      <td>5.98</td>\n",
       "      <td>196.95</td>\n",
       "      <td>19.11</td>\n",
       "    </tr>\n",
       "    <tr>\n",
       "      <th>2</th>\n",
       "      <td>1.72</td>\n",
       "      <td>1,572.18</td>\n",
       "      <td>34,040,681.02</td>\n",
       "      <td>-118,256,275.03</td>\n",
       "      <td>0.00</td>\n",
       "      <td>1,925.31</td>\n",
       "      <td>525,242.44</td>\n",
       "      <td>0.01</td>\n",
       "      <td>4.50</td>\n",
       "      <td>192.03</td>\n",
       "      <td>18.99</td>\n",
       "    </tr>\n",
       "    <tr>\n",
       "      <th>3</th>\n",
       "      <td>2.48</td>\n",
       "      <td>2,121.67</td>\n",
       "      <td>34,248,240.66</td>\n",
       "      <td>-118,980,986.97</td>\n",
       "      <td>2.00</td>\n",
       "      <td>1,976.63</td>\n",
       "      <td>526,016.95</td>\n",
       "      <td>0.01</td>\n",
       "      <td>6.05</td>\n",
       "      <td>197.22</td>\n",
       "      <td>19.16</td>\n",
       "    </tr>\n",
       "    <tr>\n",
       "      <th>4</th>\n",
       "      <td>2.00</td>\n",
       "      <td>1,597.86</td>\n",
       "      <td>34,067,396.05</td>\n",
       "      <td>-118,241,948.17</td>\n",
       "      <td>0.00</td>\n",
       "      <td>1,953.81</td>\n",
       "      <td>415,627.27</td>\n",
       "      <td>0.02</td>\n",
       "      <td>5.10</td>\n",
       "      <td>194.96</td>\n",
       "      <td>19.00</td>\n",
       "    </tr>\n",
       "  </tbody>\n",
       "</table>\n",
       "</div>"
      ],
      "text/plain": [
       "                     bathcnt                 sqft             latitude  \\\n",
       "cluster                                                                  \n",
       "0                       3.00             2,499.10        34,308,863.73   \n",
       "1                       2.51             2,117.57        33,715,802.12   \n",
       "2                       1.72             1,572.18        34,040,681.02   \n",
       "3                       2.48             2,121.67        34,248,240.66   \n",
       "4                       2.00             1,597.86        34,067,396.05   \n",
       "\n",
       "                   longitude               county            yearbuilt  \\\n",
       "cluster                                                                  \n",
       "0            -118,237,336.35                 0.00             1,989.79   \n",
       "1            -117,833,087.05                 1.00             1,974.15   \n",
       "2            -118,256,275.03                 0.00             1,925.31   \n",
       "3            -118,980,986.97                 2.00             1,976.63   \n",
       "4            -118,241,948.17                 0.00             1,953.81   \n",
       "\n",
       "                       value             logerror           bathbedcnt  \\\n",
       "cluster                                                                  \n",
       "0                 657,076.44                 0.02                 6.76   \n",
       "1                 596,249.88                 0.03                 5.98   \n",
       "2                 525,242.44                 0.01                 4.50   \n",
       "3                 526,016.95                 0.01                 6.05   \n",
       "4                 415,627.27                 0.02                 5.10   \n",
       "\n",
       "                      decade              century  \n",
       "cluster                                            \n",
       "0                     198.52                19.28  \n",
       "1                     196.95                19.11  \n",
       "2                     192.03                18.99  \n",
       "3                     197.22                19.16  \n",
       "4                     194.96                19.00  "
      ]
     },
     "execution_count": 35,
     "metadata": {},
     "output_type": "execute_result"
    }
   ],
   "source": [
    "train.groupby('cluster').mean()"
   ]
  },
  {
   "cell_type": "code",
   "execution_count": 36,
   "metadata": {},
   "outputs": [
    {
     "data": {
      "text/html": [
       "<div>\n",
       "<style scoped>\n",
       "    .dataframe tbody tr th:only-of-type {\n",
       "        vertical-align: middle;\n",
       "    }\n",
       "\n",
       "    .dataframe tbody tr th {\n",
       "        vertical-align: top;\n",
       "    }\n",
       "\n",
       "    .dataframe thead th {\n",
       "        text-align: right;\n",
       "    }\n",
       "</style>\n",
       "<table border=\"1\" class=\"dataframe\">\n",
       "  <thead>\n",
       "    <tr style=\"text-align: right;\">\n",
       "      <th></th>\n",
       "      <th>bathcnt</th>\n",
       "      <th>sqft</th>\n",
       "      <th>latitude</th>\n",
       "      <th>longitude</th>\n",
       "      <th>county</th>\n",
       "      <th>yearbuilt</th>\n",
       "      <th>value</th>\n",
       "      <th>logerror</th>\n",
       "      <th>bathbedcnt</th>\n",
       "      <th>decade</th>\n",
       "      <th>century</th>\n",
       "    </tr>\n",
       "    <tr>\n",
       "      <th>cluster</th>\n",
       "      <th></th>\n",
       "      <th></th>\n",
       "      <th></th>\n",
       "      <th></th>\n",
       "      <th></th>\n",
       "      <th></th>\n",
       "      <th></th>\n",
       "      <th></th>\n",
       "      <th></th>\n",
       "      <th></th>\n",
       "      <th></th>\n",
       "    </tr>\n",
       "  </thead>\n",
       "  <tbody>\n",
       "    <tr>\n",
       "      <th>0</th>\n",
       "      <td>3.00</td>\n",
       "      <td>2,204.00</td>\n",
       "      <td>34,285,672.50</td>\n",
       "      <td>-118,205,040.00</td>\n",
       "      <td>0</td>\n",
       "      <td>1,989.00</td>\n",
       "      <td>384,065.50</td>\n",
       "      <td>0.01</td>\n",
       "      <td>6.00</td>\n",
       "      <td>198.00</td>\n",
       "      <td>19.00</td>\n",
       "    </tr>\n",
       "    <tr>\n",
       "      <th>1</th>\n",
       "      <td>2.50</td>\n",
       "      <td>1,886.00</td>\n",
       "      <td>33,724,562.00</td>\n",
       "      <td>-117,845,304.00</td>\n",
       "      <td>1</td>\n",
       "      <td>1,972.00</td>\n",
       "      <td>469,000.00</td>\n",
       "      <td>0.01</td>\n",
       "      <td>6.00</td>\n",
       "      <td>197.00</td>\n",
       "      <td>19.00</td>\n",
       "    </tr>\n",
       "    <tr>\n",
       "      <th>2</th>\n",
       "      <td>1.00</td>\n",
       "      <td>1,335.50</td>\n",
       "      <td>34,057,353.00</td>\n",
       "      <td>-118,270,600.00</td>\n",
       "      <td>0</td>\n",
       "      <td>1,925.00</td>\n",
       "      <td>312,164.50</td>\n",
       "      <td>0.00</td>\n",
       "      <td>4.00</td>\n",
       "      <td>192.00</td>\n",
       "      <td>19.00</td>\n",
       "    </tr>\n",
       "    <tr>\n",
       "      <th>3</th>\n",
       "      <td>2.50</td>\n",
       "      <td>1,876.00</td>\n",
       "      <td>34,240,607.00</td>\n",
       "      <td>-118,948,018.00</td>\n",
       "      <td>2</td>\n",
       "      <td>1,976.00</td>\n",
       "      <td>449,237.00</td>\n",
       "      <td>0.01</td>\n",
       "      <td>6.00</td>\n",
       "      <td>197.00</td>\n",
       "      <td>19.00</td>\n",
       "    </tr>\n",
       "    <tr>\n",
       "      <th>4</th>\n",
       "      <td>2.00</td>\n",
       "      <td>1,442.00</td>\n",
       "      <td>34,067,924.00</td>\n",
       "      <td>-118,252,704.00</td>\n",
       "      <td>0</td>\n",
       "      <td>1,953.00</td>\n",
       "      <td>305,308.00</td>\n",
       "      <td>0.01</td>\n",
       "      <td>5.00</td>\n",
       "      <td>195.00</td>\n",
       "      <td>19.00</td>\n",
       "    </tr>\n",
       "  </tbody>\n",
       "</table>\n",
       "</div>"
      ],
      "text/plain": [
       "                     bathcnt                 sqft             latitude  \\\n",
       "cluster                                                                  \n",
       "0                       3.00             2,204.00        34,285,672.50   \n",
       "1                       2.50             1,886.00        33,724,562.00   \n",
       "2                       1.00             1,335.50        34,057,353.00   \n",
       "3                       2.50             1,876.00        34,240,607.00   \n",
       "4                       2.00             1,442.00        34,067,924.00   \n",
       "\n",
       "                   longitude  county            yearbuilt  \\\n",
       "cluster                                                     \n",
       "0            -118,205,040.00       0             1,989.00   \n",
       "1            -117,845,304.00       1             1,972.00   \n",
       "2            -118,270,600.00       0             1,925.00   \n",
       "3            -118,948,018.00       2             1,976.00   \n",
       "4            -118,252,704.00       0             1,953.00   \n",
       "\n",
       "                       value             logerror           bathbedcnt  \\\n",
       "cluster                                                                  \n",
       "0                 384,065.50                 0.01                 6.00   \n",
       "1                 469,000.00                 0.01                 6.00   \n",
       "2                 312,164.50                 0.00                 4.00   \n",
       "3                 449,237.00                 0.01                 6.00   \n",
       "4                 305,308.00                 0.01                 5.00   \n",
       "\n",
       "                      decade              century  \n",
       "cluster                                            \n",
       "0                     198.00                19.00  \n",
       "1                     197.00                19.00  \n",
       "2                     192.00                19.00  \n",
       "3                     197.00                19.00  \n",
       "4                     195.00                19.00  "
      ]
     },
     "execution_count": 36,
     "metadata": {},
     "output_type": "execute_result"
    }
   ],
   "source": [
    "train.groupby('cluster').median()"
   ]
  },
  {
   "cell_type": "code",
   "execution_count": null,
   "metadata": {},
   "outputs": [],
   "source": []
  },
  {
   "cell_type": "code",
   "execution_count": null,
   "metadata": {},
   "outputs": [],
   "source": []
  },
  {
   "cell_type": "code",
   "execution_count": null,
   "metadata": {},
   "outputs": [],
   "source": []
  },
  {
   "cell_type": "code",
   "execution_count": null,
   "metadata": {},
   "outputs": [],
   "source": []
  },
  {
   "cell_type": "code",
   "execution_count": null,
   "metadata": {},
   "outputs": [],
   "source": []
  },
  {
   "cell_type": "code",
   "execution_count": null,
   "metadata": {},
   "outputs": [],
   "source": []
  },
  {
   "cell_type": "code",
   "execution_count": null,
   "metadata": {},
   "outputs": [],
   "source": []
  },
  {
   "cell_type": "code",
   "execution_count": null,
   "metadata": {},
   "outputs": [],
   "source": []
  },
  {
   "cell_type": "code",
   "execution_count": null,
   "metadata": {},
   "outputs": [],
   "source": []
  },
  {
   "cell_type": "code",
   "execution_count": null,
   "metadata": {},
   "outputs": [],
   "source": []
  },
  {
   "cell_type": "code",
   "execution_count": null,
   "metadata": {},
   "outputs": [],
   "source": []
  },
  {
   "cell_type": "markdown",
   "metadata": {},
   "source": [
    "# Conclusion and Takeaways - How to prevent future error in Zestimates"
   ]
  },
  {
   "cell_type": "code",
   "execution_count": null,
   "metadata": {},
   "outputs": [],
   "source": []
  }
 ],
 "metadata": {
  "kernelspec": {
   "display_name": "Python 3",
   "language": "python",
   "name": "python3"
  },
  "language_info": {
   "codemirror_mode": {
    "name": "ipython",
    "version": 3
   },
   "file_extension": ".py",
   "mimetype": "text/x-python",
   "name": "python",
   "nbconvert_exporter": "python",
   "pygments_lexer": "ipython3",
   "version": "3.8.3"
  }
 },
 "nbformat": 4,
 "nbformat_minor": 4
}
