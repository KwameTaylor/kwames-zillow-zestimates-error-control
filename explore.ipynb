{
 "cells": [
  {
   "cell_type": "markdown",
   "metadata": {},
   "source": [
    "# Kwame's Zillow Zestimates Error Control\n",
    "\n",
    "Table of contents with header links goes here.\n",
    "\n",
    "## explore.ipynb"
   ]
  },
  {
   "cell_type": "markdown",
   "metadata": {},
   "source": [
    "### When this section of the pipeline is done being coded, I will transfer internal code to ```explore.py``` and external code and output to the final notebook.\n",
    "\n",
    "**I may make this the final notebook with a rename and cleanup.**"
   ]
  },
  {
   "cell_type": "markdown",
   "metadata": {},
   "source": [
    "### Set up the environment"
   ]
  },
  {
   "cell_type": "code",
   "execution_count": 1,
   "metadata": {},
   "outputs": [],
   "source": [
    "# ignore warnings\n",
    "import warnings\n",
    "warnings.filterwarnings(\"ignore\")\n",
    "\n",
    "# import necessary packages/modules\n",
    "import pandas as pd\n",
    "import numpy as np\n",
    "import matplotlib.pyplot as plt\n",
    "import seaborn as sns\n",
    "from scipy import stats\n",
    "from math import sqrt\n",
    "\n",
    "from wrangle import get_zillow_data, prepare_zillow\n",
    "from preprocessing import zillow_main_split, zillow_Xy_split, impute_nulls, zillow_scale\n",
    "from explore import viz_logerror, corr_heatmap, ttest_viz, ttest_hypo\n",
    "\n",
    "# default viz size settings\n",
    "plt.rc('figure', figsize=(10, 8))\n",
    "plt.rc('font', size=15)\n",
    "\n",
    "# default pandas decimal number display format\n",
    "pd.options.display.float_format = '{:20,.2f}'.format"
   ]
  },
  {
   "cell_type": "markdown",
   "metadata": {},
   "source": [
    "### Acquire the data"
   ]
  },
  {
   "cell_type": "code",
   "execution_count": 2,
   "metadata": {},
   "outputs": [
    {
     "data": {
      "text/plain": [
       "(77580, 69)"
      ]
     },
     "execution_count": 2,
     "metadata": {},
     "output_type": "execute_result"
    }
   ],
   "source": [
    "df = get_zillow_data()\n",
    "df.shape"
   ]
  },
  {
   "cell_type": "markdown",
   "metadata": {},
   "source": [
    "### Tidy the data"
   ]
  },
  {
   "cell_type": "code",
   "execution_count": 3,
   "metadata": {},
   "outputs": [
    {
     "data": {
      "text/html": [
       "<div>\n",
       "<style scoped>\n",
       "    .dataframe tbody tr th:only-of-type {\n",
       "        vertical-align: middle;\n",
       "    }\n",
       "\n",
       "    .dataframe tbody tr th {\n",
       "        vertical-align: top;\n",
       "    }\n",
       "\n",
       "    .dataframe thead th {\n",
       "        text-align: right;\n",
       "    }\n",
       "</style>\n",
       "<table border=\"1\" class=\"dataframe\">\n",
       "  <thead>\n",
       "    <tr style=\"text-align: right;\">\n",
       "      <th></th>\n",
       "      <th>bathcnt</th>\n",
       "      <th>sqft</th>\n",
       "      <th>latitude</th>\n",
       "      <th>longitude</th>\n",
       "      <th>county</th>\n",
       "      <th>yearbuilt</th>\n",
       "      <th>value</th>\n",
       "      <th>logerror</th>\n",
       "      <th>bathbedcnt</th>\n",
       "      <th>decade</th>\n",
       "      <th>century</th>\n",
       "    </tr>\n",
       "    <tr>\n",
       "      <th>parcelid</th>\n",
       "      <th></th>\n",
       "      <th></th>\n",
       "      <th></th>\n",
       "      <th></th>\n",
       "      <th></th>\n",
       "      <th></th>\n",
       "      <th></th>\n",
       "      <th></th>\n",
       "      <th></th>\n",
       "      <th></th>\n",
       "      <th></th>\n",
       "    </tr>\n",
       "  </thead>\n",
       "  <tbody>\n",
       "    <tr>\n",
       "      <th>14297519</th>\n",
       "      <td>3.50</td>\n",
       "      <td>3,100.00</td>\n",
       "      <td>33,634,931.00</td>\n",
       "      <td>-117,869,207.00</td>\n",
       "      <td>1</td>\n",
       "      <td>1,998.00</td>\n",
       "      <td>1,023,282.00</td>\n",
       "      <td>0.03</td>\n",
       "      <td>7.50</td>\n",
       "      <td>199.00</td>\n",
       "      <td>19.00</td>\n",
       "    </tr>\n",
       "    <tr>\n",
       "      <th>17052889</th>\n",
       "      <td>1.00</td>\n",
       "      <td>1,465.00</td>\n",
       "      <td>34,449,266.00</td>\n",
       "      <td>-119,281,531.00</td>\n",
       "      <td>2</td>\n",
       "      <td>1,967.00</td>\n",
       "      <td>464,000.00</td>\n",
       "      <td>0.06</td>\n",
       "      <td>3.00</td>\n",
       "      <td>196.00</td>\n",
       "      <td>19.00</td>\n",
       "    </tr>\n",
       "    <tr>\n",
       "      <th>14186244</th>\n",
       "      <td>2.00</td>\n",
       "      <td>1,243.00</td>\n",
       "      <td>33,886,168.00</td>\n",
       "      <td>-117,823,170.00</td>\n",
       "      <td>1</td>\n",
       "      <td>1,962.00</td>\n",
       "      <td>564,778.00</td>\n",
       "      <td>0.01</td>\n",
       "      <td>5.00</td>\n",
       "      <td>196.00</td>\n",
       "      <td>19.00</td>\n",
       "    </tr>\n",
       "  </tbody>\n",
       "</table>\n",
       "</div>"
      ],
      "text/plain": [
       "                      bathcnt                 sqft             latitude  \\\n",
       "parcelid                                                                  \n",
       "14297519                 3.50             3,100.00        33,634,931.00   \n",
       "17052889                 1.00             1,465.00        34,449,266.00   \n",
       "14186244                 2.00             1,243.00        33,886,168.00   \n",
       "\n",
       "                    longitude  county            yearbuilt  \\\n",
       "parcelid                                                     \n",
       "14297519      -117,869,207.00       1             1,998.00   \n",
       "17052889      -119,281,531.00       2             1,967.00   \n",
       "14186244      -117,823,170.00       1             1,962.00   \n",
       "\n",
       "                        value             logerror           bathbedcnt  \\\n",
       "parcelid                                                                  \n",
       "14297519         1,023,282.00                 0.03                 7.50   \n",
       "17052889           464,000.00                 0.06                 3.00   \n",
       "14186244           564,778.00                 0.01                 5.00   \n",
       "\n",
       "                       decade              century  \n",
       "parcelid                                            \n",
       "14297519               199.00                19.00  \n",
       "17052889               196.00                19.00  \n",
       "14186244               196.00                19.00  "
      ]
     },
     "execution_count": 3,
     "metadata": {},
     "output_type": "execute_result"
    }
   ],
   "source": [
    "df = prepare_zillow(df)\n",
    "df.head(3)"
   ]
  },
  {
   "cell_type": "markdown",
   "metadata": {},
   "source": [
    "### Summarize the clean data"
   ]
  },
  {
   "cell_type": "code",
   "execution_count": 4,
   "metadata": {},
   "outputs": [
    {
     "data": {
      "text/plain": [
       "(52412, 11)"
      ]
     },
     "execution_count": 4,
     "metadata": {},
     "output_type": "execute_result"
    }
   ],
   "source": [
    "df.shape"
   ]
  },
  {
   "cell_type": "code",
   "execution_count": 5,
   "metadata": {},
   "outputs": [
    {
     "name": "stdout",
     "output_type": "stream",
     "text": [
      "<class 'pandas.core.frame.DataFrame'>\n",
      "Int64Index: 52412 entries, 14297519 to 13083743\n",
      "Data columns (total 11 columns):\n",
      " #   Column      Non-Null Count  Dtype  \n",
      "---  ------      --------------  -----  \n",
      " 0   bathcnt     52412 non-null  float64\n",
      " 1   sqft        52330 non-null  float64\n",
      " 2   latitude    52412 non-null  float64\n",
      " 3   longitude   52412 non-null  float64\n",
      " 4   county      52412 non-null  int64  \n",
      " 5   yearbuilt   52296 non-null  float64\n",
      " 6   value       52411 non-null  float64\n",
      " 7   logerror    52412 non-null  float64\n",
      " 8   bathbedcnt  52412 non-null  float64\n",
      " 9   decade      52296 non-null  float64\n",
      " 10  century     52296 non-null  float64\n",
      "dtypes: float64(10), int64(1)\n",
      "memory usage: 4.8 MB\n"
     ]
    }
   ],
   "source": [
    "df.info()"
   ]
  },
  {
   "cell_type": "code",
   "execution_count": 6,
   "metadata": {},
   "outputs": [
    {
     "data": {
      "text/plain": [
       "bathcnt         0\n",
       "sqft           82\n",
       "latitude        0\n",
       "longitude       0\n",
       "county          0\n",
       "yearbuilt     116\n",
       "value           1\n",
       "logerror        0\n",
       "bathbedcnt      0\n",
       "decade        116\n",
       "century       116\n",
       "dtype: int64"
      ]
     },
     "execution_count": 6,
     "metadata": {},
     "output_type": "execute_result"
    }
   ],
   "source": [
    "df.isnull().sum()"
   ]
  },
  {
   "cell_type": "markdown",
   "metadata": {},
   "source": [
    "The remaining nulls have to be imputed after the data split so that we aren't cheating with our data sets."
   ]
  },
  {
   "cell_type": "markdown",
   "metadata": {},
   "source": [
    "### Split the data into train, validate, test."
   ]
  },
  {
   "cell_type": "code",
   "execution_count": 7,
   "metadata": {},
   "outputs": [],
   "source": [
    "# main split\n",
    "train, validate, test = zillow_main_split(df)"
   ]
  },
  {
   "cell_type": "code",
   "execution_count": 8,
   "metadata": {},
   "outputs": [
    {
     "name": "stdout",
     "output_type": "stream",
     "text": [
      "Shape of train data: (29350, 11)\n",
      "Shape of validate data: (12579, 11)\n",
      "Shape of test data: (10483, 11)\n"
     ]
    }
   ],
   "source": [
    "print(f'Shape of train data: {train.shape}')\n",
    "print(f'Shape of validate data: {validate.shape}')\n",
    "print(f'Shape of test data: {test.shape}')"
   ]
  },
  {
   "cell_type": "markdown",
   "metadata": {},
   "source": [
    "### Impute the remaining nulls with medians."
   ]
  },
  {
   "cell_type": "code",
   "execution_count": 9,
   "metadata": {},
   "outputs": [
    {
     "data": {
      "text/plain": [
       "bathcnt        0\n",
       "sqft           0\n",
       "latitude       0\n",
       "longitude      0\n",
       "county         0\n",
       "yearbuilt      0\n",
       "value          0\n",
       "logerror       0\n",
       "bathbedcnt     0\n",
       "decade        69\n",
       "century       69\n",
       "dtype: int64"
      ]
     },
     "execution_count": 9,
     "metadata": {},
     "output_type": "execute_result"
    }
   ],
   "source": [
    "train = impute_nulls(train)\n",
    "train.isnull().sum()"
   ]
  },
  {
   "cell_type": "code",
   "execution_count": 10,
   "metadata": {},
   "outputs": [
    {
     "data": {
      "text/plain": [
       "bathcnt        0\n",
       "sqft           0\n",
       "latitude       0\n",
       "longitude      0\n",
       "county         0\n",
       "yearbuilt      0\n",
       "value          0\n",
       "logerror       0\n",
       "bathbedcnt     0\n",
       "decade        27\n",
       "century       27\n",
       "dtype: int64"
      ]
     },
     "execution_count": 10,
     "metadata": {},
     "output_type": "execute_result"
    }
   ],
   "source": [
    "validate = impute_nulls(validate)\n",
    "validate.isnull().sum()"
   ]
  },
  {
   "cell_type": "code",
   "execution_count": 11,
   "metadata": {},
   "outputs": [
    {
     "data": {
      "text/plain": [
       "bathcnt        0\n",
       "sqft           0\n",
       "latitude       0\n",
       "longitude      0\n",
       "county         0\n",
       "yearbuilt      0\n",
       "value          0\n",
       "logerror       0\n",
       "bathbedcnt     0\n",
       "decade        20\n",
       "century       20\n",
       "dtype: int64"
      ]
     },
     "execution_count": 11,
     "metadata": {},
     "output_type": "execute_result"
    }
   ],
   "source": [
    "test = impute_nulls(test)\n",
    "test.isnull().sum()"
   ]
  },
  {
   "cell_type": "markdown",
   "metadata": {},
   "source": [
    "### Split the data into X and y train, X and y validate, X and y test."
   ]
  },
  {
   "cell_type": "code",
   "execution_count": 12,
   "metadata": {},
   "outputs": [],
   "source": [
    "X_train, X_validate, X_test, y_train, y_validate, y_test = zillow_Xy_split(train, validate, test)"
   ]
  },
  {
   "cell_type": "code",
   "execution_count": 13,
   "metadata": {},
   "outputs": [
    {
     "name": "stdout",
     "output_type": "stream",
     "text": [
      "Shape of X train data: (29350, 10)\n",
      "Shape of X validate data: (12579, 10)\n",
      "Shape of X test data: (10483, 10)\n",
      "\n",
      "\n",
      "Shape of y train data: (29350,)\n",
      "Shape of y validate data: (12579,)\n",
      "Shape of y test data: (10483,)\n"
     ]
    }
   ],
   "source": [
    "# checking to make sure data was split correctly\n",
    "print(f'Shape of X train data: {X_train.shape}')\n",
    "print(f'Shape of X validate data: {X_validate.shape}')\n",
    "print(f'Shape of X test data: {X_test.shape}')\n",
    "print('\\n')\n",
    "print(f'Shape of y train data: {y_train.shape}')\n",
    "print(f'Shape of y validate data: {y_validate.shape}')\n",
    "print(f'Shape of y test data: {y_test.shape}')"
   ]
  },
  {
   "cell_type": "markdown",
   "metadata": {},
   "source": [
    "### Scale the data"
   ]
  },
  {
   "cell_type": "code",
   "execution_count": 14,
   "metadata": {},
   "outputs": [
    {
     "data": {
      "text/html": [
       "<div>\n",
       "<style scoped>\n",
       "    .dataframe tbody tr th:only-of-type {\n",
       "        vertical-align: middle;\n",
       "    }\n",
       "\n",
       "    .dataframe tbody tr th {\n",
       "        vertical-align: top;\n",
       "    }\n",
       "\n",
       "    .dataframe thead th {\n",
       "        text-align: right;\n",
       "    }\n",
       "</style>\n",
       "<table border=\"1\" class=\"dataframe\">\n",
       "  <thead>\n",
       "    <tr style=\"text-align: right;\">\n",
       "      <th></th>\n",
       "      <th>bathcnt</th>\n",
       "      <th>sqft</th>\n",
       "      <th>latitude</th>\n",
       "      <th>longitude</th>\n",
       "      <th>county</th>\n",
       "      <th>yearbuilt</th>\n",
       "      <th>value</th>\n",
       "      <th>bathbedcnt</th>\n",
       "      <th>decade</th>\n",
       "      <th>century</th>\n",
       "    </tr>\n",
       "    <tr>\n",
       "      <th>parcelid</th>\n",
       "      <th></th>\n",
       "      <th></th>\n",
       "      <th></th>\n",
       "      <th></th>\n",
       "      <th></th>\n",
       "      <th></th>\n",
       "      <th></th>\n",
       "      <th></th>\n",
       "      <th></th>\n",
       "      <th></th>\n",
       "    </tr>\n",
       "  </thead>\n",
       "  <tbody>\n",
       "    <tr>\n",
       "      <th>10750905</th>\n",
       "      <td>0.31</td>\n",
       "      <td>0.13</td>\n",
       "      <td>0.53</td>\n",
       "      <td>0.36</td>\n",
       "      <td>0.00</td>\n",
       "      <td>0.84</td>\n",
       "      <td>0.03</td>\n",
       "      <td>0.38</td>\n",
       "      <td>0.86</td>\n",
       "      <td>0.50</td>\n",
       "    </tr>\n",
       "    <tr>\n",
       "      <th>13051572</th>\n",
       "      <td>0.23</td>\n",
       "      <td>0.11</td>\n",
       "      <td>0.53</td>\n",
       "      <td>0.91</td>\n",
       "      <td>0.00</td>\n",
       "      <td>0.69</td>\n",
       "      <td>0.01</td>\n",
       "      <td>0.33</td>\n",
       "      <td>0.71</td>\n",
       "      <td>0.50</td>\n",
       "    </tr>\n",
       "    <tr>\n",
       "      <th>11419247</th>\n",
       "      <td>0.08</td>\n",
       "      <td>0.03</td>\n",
       "      <td>0.39</td>\n",
       "      <td>0.58</td>\n",
       "      <td>0.00</td>\n",
       "      <td>0.50</td>\n",
       "      <td>0.01</td>\n",
       "      <td>0.14</td>\n",
       "      <td>0.50</td>\n",
       "      <td>0.50</td>\n",
       "    </tr>\n",
       "  </tbody>\n",
       "</table>\n",
       "</div>"
      ],
      "text/plain": [
       "                      bathcnt                 sqft             latitude  \\\n",
       "parcelid                                                                  \n",
       "10750905                 0.31                 0.13                 0.53   \n",
       "13051572                 0.23                 0.11                 0.53   \n",
       "11419247                 0.08                 0.03                 0.39   \n",
       "\n",
       "                    longitude               county            yearbuilt  \\\n",
       "parcelid                                                                  \n",
       "10750905                 0.36                 0.00                 0.84   \n",
       "13051572                 0.91                 0.00                 0.69   \n",
       "11419247                 0.58                 0.00                 0.50   \n",
       "\n",
       "                        value           bathbedcnt               decade  \\\n",
       "parcelid                                                                  \n",
       "10750905                 0.03                 0.38                 0.86   \n",
       "13051572                 0.01                 0.33                 0.71   \n",
       "11419247                 0.01                 0.14                 0.50   \n",
       "\n",
       "                      century  \n",
       "parcelid                       \n",
       "10750905                 0.50  \n",
       "13051572                 0.50  \n",
       "11419247                 0.50  "
      ]
     },
     "execution_count": 14,
     "metadata": {},
     "output_type": "execute_result"
    }
   ],
   "source": [
    "scaler, X_train_scaled, X_validate_scaled, X_test_scaled = zillow_scale(X_train, X_validate, X_test)\n",
    "X_train_scaled.head(3)"
   ]
  },
  {
   "cell_type": "markdown",
   "metadata": {},
   "source": [
    "### Explore the data and create visualizations"
   ]
  },
  {
   "cell_type": "code",
   "execution_count": 15,
   "metadata": {},
   "outputs": [
    {
     "data": {
      "image/png": "[encoded data removed]",
      "text/plain": [
       "<Figure size 720x576 with 1 Axes>"
      ]
     },
     "metadata": {
      "needs_background": "light"
     },
     "output_type": "display_data"
    }
   ],
   "source": [
    "viz_logerror(train)"
   ]
  },
  {
   "cell_type": "markdown",
   "metadata": {},
   "source": [
    "**There are outliers present, especially on the side of negative logerror. I will handle these on the next iteration of this section.**"
   ]
  },
  {
   "cell_type": "code",
   "execution_count": 16,
   "metadata": {},
   "outputs": [
    {
     "data": {
      "image/png": "[encoded data removed]",
      "text/plain": [
       "<Figure size 720x576 with 2 Axes>"
      ]
     },
     "metadata": {
      "needs_background": "light"
     },
     "output_type": "display_data"
    }
   ],
   "source": [
    "corr_heatmap(X_train_scaled)"
   ]
  },
  {
   "cell_type": "code",
   "execution_count": 17,
   "metadata": {},
   "outputs": [
    {
     "data": {
      "text/plain": [
       "19.00    26774\n",
       "20.00     2474\n",
       "18.00       33\n",
       "Name: century, dtype: int64"
      ]
     },
     "execution_count": 17,
     "metadata": {},
     "output_type": "execute_result"
    }
   ],
   "source": [
    "#keep this in final notebook\n",
    "train.century.value_counts()"
   ]
  },
  {
   "cell_type": "markdown",
   "metadata": {},
   "source": [
    "### One statistical test - 1 sample 2 tailed T-test: categorical vs cont."
   ]
  },
  {
   "cell_type": "markdown",
   "metadata": {},
   "source": [
    "## Is there a significant difference in the log error of Zestimates on properties built in the 2000s and the overall log error?"
   ]
  },
  {
   "cell_type": "markdown",
   "metadata": {},
   "source": [
    "$\n",
    "\\begin{align*}\n",
    "   H_0 & : \\text{There is no difference in Zestimate log error in properties built in the 2000s and the overall log error.}\n",
    "   \\\\\n",
    "   H_a & : \\text{There is a difference in Zestimate log error in properties built in the 2000s and the overall log error.}\n",
    "   \\\\\n",
    "    \\alpha & : \\text{0.05}\n",
    "\\end{align*}\n",
    "$"
   ]
  },
  {
   "cell_type": "code",
   "execution_count": 22,
   "metadata": {},
   "outputs": [
    {
     "data": {
      "image/png": "[encoded data removed]",
      "text/plain": [
       "<Figure size 720x576 with 1 Axes>"
      ]
     },
     "metadata": {
      "needs_background": "light"
     },
     "output_type": "display_data"
    },
    {
     "data": {
      "image/png": "[encoded data removed]",
      "text/plain": [
       "<Figure size 720x576 with 1 Axes>"
      ]
     },
     "metadata": {
      "needs_background": "light"
     },
     "output_type": "display_data"
    },
    {
     "name": "stdout",
     "output_type": "stream",
     "text": [
      "Compare the median and mean:\n",
      " 0.018017412713940112 0.00706572454818\n"
     ]
    }
   ],
   "source": [
    "ttest_viz(train)"
   ]
  },
  {
   "cell_type": "markdown",
   "metadata": {},
   "source": [
    "There are some outliers, but I will say that the mean and median are close enough for this iteration. I will remove outliers in the next iteration."
   ]
  },
  {
   "cell_type": "markdown",
   "metadata": {},
   "source": [
    "**Now that we know the variable has a normal distribution and we compared the mean and median, we can run the T-test.**"
   ]
  },
  {
   "cell_type": "code",
   "execution_count": 25,
   "metadata": {},
   "outputs": [
    {
     "name": "stdout",
     "output_type": "stream",
     "text": [
      "t = 1.104\n",
      "p = 0.270\n",
      "We fail to reject the null hypothesis.\n",
      "0.26960669085584754\n"
     ]
    }
   ],
   "source": [
    "ttest_hypo(train)"
   ]
  },
  {
   "cell_type": "markdown",
   "metadata": {},
   "source": [
    "### There doesn't seem to be a difference in log error in properties built in the 2000s and the overall log error."
   ]
  },
  {
   "cell_type": "markdown",
   "metadata": {},
   "source": [
    "# Modeling"
   ]
  },
  {
   "cell_type": "code",
   "execution_count": null,
   "metadata": {},
   "outputs": [],
   "source": []
  }
 ],
 "metadata": {
  "kernelspec": {
   "display_name": "Python 3",
   "language": "python",
   "name": "python3"
  },
  "language_info": {
   "codemirror_mode": {
    "name": "ipython",
    "version": 3
   },
   "file_extension": ".py",
   "mimetype": "text/x-python",
   "name": "python",
   "nbconvert_exporter": "python",
   "pygments_lexer": "ipython3",
   "version": "3.8.3"
  }
 },
 "nbformat": 4,
 "nbformat_minor": 4
}
